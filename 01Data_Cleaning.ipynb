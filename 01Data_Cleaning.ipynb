{
 "cells": [
  {
   "cell_type": "markdown",
   "id": "07d4a13a-0c97-48a0-9b81-c7c2498bd632",
   "metadata": {},
   "source": [
    "# Car Price Prediction in the German Used Market"
   ]
  },
  {
   "cell_type": "markdown",
   "id": "fcd1761a-64fa-44ed-9780-d248923bf717",
   "metadata": {},
   "source": [
    "## 1. 📌 Introduction\n",
    "- Objective: To analyze patterns in the German used car market and build a data-driven predictive model for estimating resale prices. The model will leverage key vehicle attributes—such as make, model, mileage (km driven), fuel type, and condition—to support pricing strategies, identify market trends, and inform decision-making for dealerships and online platforms.\n",
    "- Dataset Source: Autoscout24.de or Kaggle  \n",
    "- Features:\n",
    "  - Brand: The brand or manufacturer of the car.\n",
    "  - Model: The specific model of the car.\n",
    "  - Color: The color of the car's exterior.\n",
    "  - Registration Date: The date when the car was registered (Month/Year).\n",
    "  - Year of Production: The year in which the car was manufactured.\n",
    "  - Price in Euro: The price of the car in Euros.\n",
    "  - Power: The power of the car in kilowatts (kW) and horsepower (ps).\n",
    "  - Transmission Type: The type of transmission (e.g., automatic, manual).\n",
    "  - Fuel Type: The type of fuel the car requires.\n",
    "  - Fuel Consumption: Information about the car's fuel consumption in L/100km ang g/km.\n",
    "  - Mileage: The total distance traveled by the car in km.\n",
    "  - Offer Description: Additional description provided in the car offer.   \n",
    "- Tools & Libraries Used\n",
    "  - Python, Jupyter Notebbok\n",
    "  - Libraries: Python Pandas, Numpy, SciPy, Scikit, Seaborn, Matplotlib\n",
    "    \n"
   ]
  },
  {
   "cell_type": "markdown",
   "id": "2bc2d18b-a633-4bfd-a263-c618aab1bc7d",
   "metadata": {},
   "source": [
    "## 2. Data Cleaning"
   ]
  },
  {
   "cell_type": "markdown",
   "id": "f8e27087-a873-4910-9b3a-f5b31d043976",
   "metadata": {},
   "source": [
    "The following section deals with reading the dataset, cleaning the dataset of duplicated values and handling missing or null values, formatting the incorrect values like datetime, fuel_comsumption into a standard format"
   ]
  },
  {
   "cell_type": "code",
   "execution_count": 130,
   "id": "fa4c765f-3a29-4d25-bde5-cddefaf5a9aa",
   "metadata": {},
   "outputs": [],
   "source": [
    "import pandas as pd\n",
    "import numpy as np\n",
    "import matplotlib.pyplot as plt\n",
    "import seaborn as sns\n",
    "import scipy\n",
    "from scipy import stats"
   ]
  },
  {
   "cell_type": "markdown",
   "id": "1d934ce2-643e-484d-8969-d2ae2f3596ed",
   "metadata": {},
   "source": [
    "- **Loading the Dataset**"
   ]
  },
  {
   "cell_type": "code",
   "execution_count": 132,
   "id": "2190dcb3-d306-46a7-8e47-8e446e70e3c5",
   "metadata": {},
   "outputs": [
    {
     "data": {
      "text/html": [
       "<div>\n",
       "<style scoped>\n",
       "    .dataframe tbody tr th:only-of-type {\n",
       "        vertical-align: middle;\n",
       "    }\n",
       "\n",
       "    .dataframe tbody tr th {\n",
       "        vertical-align: top;\n",
       "    }\n",
       "\n",
       "    .dataframe thead th {\n",
       "        text-align: right;\n",
       "    }\n",
       "</style>\n",
       "<table border=\"1\" class=\"dataframe\">\n",
       "  <thead>\n",
       "    <tr style=\"text-align: right;\">\n",
       "      <th></th>\n",
       "      <th>Column1</th>\n",
       "      <th>brand</th>\n",
       "      <th>model</th>\n",
       "      <th>color</th>\n",
       "      <th>registration_date</th>\n",
       "      <th>year</th>\n",
       "      <th>price_in_euro</th>\n",
       "      <th>power_kw</th>\n",
       "      <th>power_ps</th>\n",
       "      <th>transmission_type</th>\n",
       "      <th>fuel_type</th>\n",
       "      <th>fuel_consumption_l_100km</th>\n",
       "      <th>fuel_consumption_g_km</th>\n",
       "      <th>mileage_in_km</th>\n",
       "      <th>offer_description</th>\n",
       "    </tr>\n",
       "  </thead>\n",
       "  <tbody>\n",
       "    <tr>\n",
       "      <th>0</th>\n",
       "      <td>0</td>\n",
       "      <td>alfa-romeo</td>\n",
       "      <td>Alfa Romeo GTV</td>\n",
       "      <td>red</td>\n",
       "      <td>01/10/1995</td>\n",
       "      <td>1995.0</td>\n",
       "      <td>1300.0</td>\n",
       "      <td>148.0</td>\n",
       "      <td>201.0</td>\n",
       "      <td>Manual</td>\n",
       "      <td>Petrol</td>\n",
       "      <td>10,9 l/100 km</td>\n",
       "      <td>260 g/km</td>\n",
       "      <td>1605000.0</td>\n",
       "      <td>2.0 V6 TB</td>\n",
       "    </tr>\n",
       "    <tr>\n",
       "      <th>1</th>\n",
       "      <td>1</td>\n",
       "      <td>alfa-romeo</td>\n",
       "      <td>Alfa Romeo 164</td>\n",
       "      <td>black</td>\n",
       "      <td>01/02/1995</td>\n",
       "      <td>1995.0</td>\n",
       "      <td>24900.0</td>\n",
       "      <td>191.0</td>\n",
       "      <td>260.0</td>\n",
       "      <td>Manual</td>\n",
       "      <td>Petrol</td>\n",
       "      <td>NaN</td>\n",
       "      <td>- (g/km)</td>\n",
       "      <td>1900000.0</td>\n",
       "      <td>Q4 Allrad, 3.2L GTA</td>\n",
       "    </tr>\n",
       "    <tr>\n",
       "      <th>2</th>\n",
       "      <td>2</td>\n",
       "      <td>alfa-romeo</td>\n",
       "      <td>Alfa Romeo Spider</td>\n",
       "      <td>black</td>\n",
       "      <td>01/02/1995</td>\n",
       "      <td>1995.0</td>\n",
       "      <td>5900.0</td>\n",
       "      <td>110.0</td>\n",
       "      <td>150.0</td>\n",
       "      <td>Unknown</td>\n",
       "      <td>Petrol</td>\n",
       "      <td>NaN</td>\n",
       "      <td>- (g/km)</td>\n",
       "      <td>1290000.0</td>\n",
       "      <td>ALFA ROME 916</td>\n",
       "    </tr>\n",
       "  </tbody>\n",
       "</table>\n",
       "</div>"
      ],
      "text/plain": [
       "   Column1       brand              model  color registration_date    year  \\\n",
       "0        0  alfa-romeo     Alfa Romeo GTV    red        01/10/1995  1995.0   \n",
       "1        1  alfa-romeo     Alfa Romeo 164  black        01/02/1995  1995.0   \n",
       "2        2  alfa-romeo  Alfa Romeo Spider  black        01/02/1995  1995.0   \n",
       "\n",
       "   price_in_euro  power_kw  power_ps transmission_type fuel_type  \\\n",
       "0         1300.0     148.0     201.0            Manual    Petrol   \n",
       "1        24900.0     191.0     260.0            Manual    Petrol   \n",
       "2         5900.0     110.0     150.0           Unknown    Petrol   \n",
       "\n",
       "  fuel_consumption_l_100km fuel_consumption_g_km  mileage_in_km  \\\n",
       "0            10,9 l/100 km              260 g/km      1605000.0   \n",
       "1                      NaN              - (g/km)      1900000.0   \n",
       "2                      NaN              - (g/km)      1290000.0   \n",
       "\n",
       "     offer_description  \n",
       "0            2.0 V6 TB  \n",
       "1  Q4 Allrad, 3.2L GTA  \n",
       "2        ALFA ROME 916  "
      ]
     },
     "execution_count": 132,
     "metadata": {},
     "output_type": "execute_result"
    }
   ],
   "source": [
    "df_main = pd.read_csv(\"cars_data.csv\", sep=\";\")\n",
    "df_main.head(3)"
   ]
  },
  {
   "cell_type": "code",
   "execution_count": 133,
   "id": "1d9f92b2-b407-452f-a499-e7b7b1ceda37",
   "metadata": {},
   "outputs": [
    {
     "data": {
      "text/plain": [
       "(251079, 15)"
      ]
     },
     "execution_count": 133,
     "metadata": {},
     "output_type": "execute_result"
    }
   ],
   "source": [
    "df_main.shape"
   ]
  },
  {
   "cell_type": "markdown",
   "id": "e570c816-09e1-4636-be81-f26e0e957b28",
   "metadata": {},
   "source": [
    "We will drop the column Unnamed:0 as it is of no significant use to us"
   ]
  },
  {
   "cell_type": "code",
   "execution_count": 135,
   "id": "cb912116-49a0-4dc7-9ff9-6fa86392fa08",
   "metadata": {},
   "outputs": [],
   "source": [
    "df_main.drop([\"Column1\"], axis=1, inplace=True)"
   ]
  },
  {
   "cell_type": "code",
   "execution_count": 136,
   "id": "f4165ace-fc21-4650-b471-af57d7124de6",
   "metadata": {},
   "outputs": [
    {
     "data": {
      "text/plain": [
       "['brand',\n",
       " 'model',\n",
       " 'color',\n",
       " 'registration_date',\n",
       " 'year',\n",
       " 'price_in_euro',\n",
       " 'power_kw',\n",
       " 'power_ps',\n",
       " 'transmission_type',\n",
       " 'fuel_type',\n",
       " 'fuel_consumption_l_100km',\n",
       " 'fuel_consumption_g_km',\n",
       " 'mileage_in_km',\n",
       " 'offer_description']"
      ]
     },
     "execution_count": 136,
     "metadata": {},
     "output_type": "execute_result"
    }
   ],
   "source": [
    "df_main.columns.tolist()"
   ]
  },
  {
   "cell_type": "markdown",
   "id": "22a2cee2-6306-414c-846b-1197a46f7101",
   "metadata": {},
   "source": [
    "- **Finding and Dealing with the missing values**"
   ]
  },
  {
   "cell_type": "code",
   "execution_count": 138,
   "id": "3f70f3fd-9f20-4c3d-aac1-5a87f6475a92",
   "metadata": {},
   "outputs": [
    {
     "data": {
      "text/plain": [
       "brand                       False\n",
       "model                       False\n",
       "color                        True\n",
       "registration_date            True\n",
       "year                         True\n",
       "price_in_euro                True\n",
       "power_kw                     True\n",
       "power_ps                     True\n",
       "transmission_type           False\n",
       "fuel_type                   False\n",
       "fuel_consumption_l_100km     True\n",
       "fuel_consumption_g_km       False\n",
       "mileage_in_km                True\n",
       "offer_description            True\n",
       "dtype: bool"
      ]
     },
     "execution_count": 138,
     "metadata": {},
     "output_type": "execute_result"
    }
   ],
   "source": [
    "df_main.isnull().any()"
   ]
  },
  {
   "cell_type": "code",
   "execution_count": 139,
   "id": "5111b5c3-ac51-4cdb-a647-c92945ea1b87",
   "metadata": {},
   "outputs": [
    {
     "data": {
      "text/plain": [
       "brand                           0\n",
       "model                           0\n",
       "color                         166\n",
       "registration_date             192\n",
       "year                          195\n",
       "price_in_euro                 199\n",
       "power_kw                      293\n",
       "power_ps                      210\n",
       "transmission_type               0\n",
       "fuel_type                       0\n",
       "fuel_consumption_l_100km    26873\n",
       "fuel_consumption_g_km           0\n",
       "mileage_in_km                 152\n",
       "offer_description               1\n",
       "dtype: int64"
      ]
     },
     "execution_count": 139,
     "metadata": {},
     "output_type": "execute_result"
    }
   ],
   "source": [
    "df_main.isnull().sum()"
   ]
  },
  {
   "cell_type": "markdown",
   "id": "ce202e0f-d50d-4cc3-aef8-1087f1bb14a4",
   "metadata": {},
   "source": [
    "Based on the columns and according to the needs of our analyses, we will drop the rows of missing values from registration_date and offer_description since such less null values will not affect our analysis strongly. We will also drop the missing values rows from fuel_consumption_l_100km since more than 90% of the values are missing. We will use the alternate substitute which is fuel_comsumption_g_km. "
   ]
  },
  {
   "cell_type": "code",
   "execution_count": 141,
   "id": "1c3e08ae-28d5-4004-ab01-b965016f1cc0",
   "metadata": {},
   "outputs": [],
   "source": [
    "df_main.dropna(subset=[\"registration_date\", \"fuel_consumption_l_100km\", \"offer_description\"], inplace=True)"
   ]
  },
  {
   "cell_type": "code",
   "execution_count": 142,
   "id": "ea189480-56b0-443f-99de-e5c7cc9fc53c",
   "metadata": {},
   "outputs": [
    {
     "data": {
      "text/plain": [
       "brand                         0\n",
       "model                         0\n",
       "color                       150\n",
       "registration_date             0\n",
       "year                          7\n",
       "price_in_euro                 7\n",
       "power_kw                     76\n",
       "power_ps                     83\n",
       "transmission_type             0\n",
       "fuel_type                     0\n",
       "fuel_consumption_l_100km      0\n",
       "fuel_consumption_g_km         0\n",
       "mileage_in_km                55\n",
       "offer_description             0\n",
       "dtype: int64"
      ]
     },
     "execution_count": 142,
     "metadata": {},
     "output_type": "execute_result"
    }
   ],
   "source": [
    "df_main.isnull().sum()"
   ]
  },
  {
   "cell_type": "markdown",
   "id": "3bd9356b-6044-455d-8bf9-a7e0fe9f912b",
   "metadata": {},
   "source": [
    "df_main[\"color\"].fillna(df_main[\"color\"].mode()[0], inplace=True)\n",
    "df_main[\"power_kw\"].fillna(df_main[\"power_kw\"].mode()[0], inplace=True)\n",
    "df_main[\"power_ps\"].fillna(df_main[\"power_ps\"].mode()[0], inplace=True)\n",
    "df_main[\"mileage_in_km\"].fillna(df_main[\"mileage_in_km\"].mode()[0], inplace=True)"
   ]
  },
  {
   "cell_type": "code",
   "execution_count": 144,
   "id": "b0be811f-b6eb-4d51-b0de-d40fd4ceb34d",
   "metadata": {},
   "outputs": [
    {
     "data": {
      "text/html": [
       "<div>\n",
       "<style scoped>\n",
       "    .dataframe tbody tr th:only-of-type {\n",
       "        vertical-align: middle;\n",
       "    }\n",
       "\n",
       "    .dataframe tbody tr th {\n",
       "        vertical-align: top;\n",
       "    }\n",
       "\n",
       "    .dataframe thead th {\n",
       "        text-align: right;\n",
       "    }\n",
       "</style>\n",
       "<table border=\"1\" class=\"dataframe\">\n",
       "  <thead>\n",
       "    <tr style=\"text-align: right;\">\n",
       "      <th></th>\n",
       "      <th>brand</th>\n",
       "      <th>model</th>\n",
       "      <th>color</th>\n",
       "      <th>registration_date</th>\n",
       "      <th>year</th>\n",
       "      <th>price_in_euro</th>\n",
       "      <th>power_kw</th>\n",
       "      <th>power_ps</th>\n",
       "      <th>transmission_type</th>\n",
       "      <th>fuel_type</th>\n",
       "      <th>fuel_consumption_l_100km</th>\n",
       "      <th>fuel_consumption_g_km</th>\n",
       "      <th>mileage_in_km</th>\n",
       "      <th>offer_description</th>\n",
       "    </tr>\n",
       "  </thead>\n",
       "  <tbody>\n",
       "    <tr>\n",
       "      <th>0</th>\n",
       "      <td>alfa-romeo</td>\n",
       "      <td>Alfa Romeo GTV</td>\n",
       "      <td>red</td>\n",
       "      <td>01/10/1995</td>\n",
       "      <td>1995.0</td>\n",
       "      <td>1300.0</td>\n",
       "      <td>148.0</td>\n",
       "      <td>201.0</td>\n",
       "      <td>Manual</td>\n",
       "      <td>Petrol</td>\n",
       "      <td>10,9 l/100 km</td>\n",
       "      <td>260 g/km</td>\n",
       "      <td>1605000.0</td>\n",
       "      <td>2.0 V6 TB</td>\n",
       "    </tr>\n",
       "    <tr>\n",
       "      <th>3</th>\n",
       "      <td>alfa-romeo</td>\n",
       "      <td>Alfa Romeo Spider</td>\n",
       "      <td>black</td>\n",
       "      <td>01/07/1995</td>\n",
       "      <td>1995.0</td>\n",
       "      <td>4900.0</td>\n",
       "      <td>110.0</td>\n",
       "      <td>150.0</td>\n",
       "      <td>Manual</td>\n",
       "      <td>Petrol</td>\n",
       "      <td>9,5 l/100 km</td>\n",
       "      <td>225 g/km</td>\n",
       "      <td>1895000.0</td>\n",
       "      <td>2.0 16V Twin Spark L</td>\n",
       "    </tr>\n",
       "    <tr>\n",
       "      <th>4</th>\n",
       "      <td>alfa-romeo</td>\n",
       "      <td>Alfa Romeo 164</td>\n",
       "      <td>red</td>\n",
       "      <td>01/11/1996</td>\n",
       "      <td>1996.0</td>\n",
       "      <td>17950.0</td>\n",
       "      <td>132.0</td>\n",
       "      <td>179.0</td>\n",
       "      <td>Manual</td>\n",
       "      <td>Petrol</td>\n",
       "      <td>7,2 l/100 km</td>\n",
       "      <td>- (g/km)</td>\n",
       "      <td>961270.0</td>\n",
       "      <td>3.0i Super V6, absoluter Topzustand !</td>\n",
       "    </tr>\n",
       "  </tbody>\n",
       "</table>\n",
       "</div>"
      ],
      "text/plain": [
       "        brand              model  color registration_date    year  \\\n",
       "0  alfa-romeo     Alfa Romeo GTV    red        01/10/1995  1995.0   \n",
       "3  alfa-romeo  Alfa Romeo Spider  black        01/07/1995  1995.0   \n",
       "4  alfa-romeo     Alfa Romeo 164    red        01/11/1996  1996.0   \n",
       "\n",
       "   price_in_euro  power_kw  power_ps transmission_type fuel_type  \\\n",
       "0         1300.0     148.0     201.0            Manual    Petrol   \n",
       "3         4900.0     110.0     150.0            Manual    Petrol   \n",
       "4        17950.0     132.0     179.0            Manual    Petrol   \n",
       "\n",
       "  fuel_consumption_l_100km fuel_consumption_g_km  mileage_in_km  \\\n",
       "0            10,9 l/100 km              260 g/km      1605000.0   \n",
       "3             9,5 l/100 km              225 g/km      1895000.0   \n",
       "4             7,2 l/100 km              - (g/km)       961270.0   \n",
       "\n",
       "                       offer_description  \n",
       "0                              2.0 V6 TB  \n",
       "3                   2.0 16V Twin Spark L  \n",
       "4  3.0i Super V6, absoluter Topzustand !  "
      ]
     },
     "execution_count": 144,
     "metadata": {},
     "output_type": "execute_result"
    }
   ],
   "source": [
    "df_main.head(3)"
   ]
  },
  {
   "cell_type": "markdown",
   "id": "cf0e8a10-5196-4777-8e8c-c2821aec3591",
   "metadata": {},
   "source": [
    "- **Converting the incorrect values into correct ones with calculations**"
   ]
  },
  {
   "cell_type": "code",
   "execution_count": 146,
   "id": "b1a0c97a-3b23-40a3-bc6b-eb7f531be2bd",
   "metadata": {},
   "outputs": [],
   "source": [
    "# To convert the fuel consumption g/km to a numerical column\n",
    "df_main[\"fuel_consumption_g_km\"] = df_main[\"fuel_consumption_g_km\"].str.extract(r'(\\d+\\.?\\d*)').astype(float) "
   ]
  },
  {
   "cell_type": "code",
   "execution_count": 147,
   "id": "6f920ce2-9c25-4e24-aec8-93ffb43107e0",
   "metadata": {},
   "outputs": [
    {
     "data": {
      "text/html": [
       "<div>\n",
       "<style scoped>\n",
       "    .dataframe tbody tr th:only-of-type {\n",
       "        vertical-align: middle;\n",
       "    }\n",
       "\n",
       "    .dataframe tbody tr th {\n",
       "        vertical-align: top;\n",
       "    }\n",
       "\n",
       "    .dataframe thead th {\n",
       "        text-align: right;\n",
       "    }\n",
       "</style>\n",
       "<table border=\"1\" class=\"dataframe\">\n",
       "  <thead>\n",
       "    <tr style=\"text-align: right;\">\n",
       "      <th></th>\n",
       "      <th>brand</th>\n",
       "      <th>model</th>\n",
       "      <th>color</th>\n",
       "      <th>registration_date</th>\n",
       "      <th>year</th>\n",
       "      <th>price_in_euro</th>\n",
       "      <th>power_kw</th>\n",
       "      <th>power_ps</th>\n",
       "      <th>transmission_type</th>\n",
       "      <th>fuel_type</th>\n",
       "      <th>fuel_consumption_l_100km</th>\n",
       "      <th>fuel_consumption_g_km</th>\n",
       "      <th>mileage_in_km</th>\n",
       "      <th>offer_description</th>\n",
       "    </tr>\n",
       "  </thead>\n",
       "  <tbody>\n",
       "    <tr>\n",
       "      <th>0</th>\n",
       "      <td>alfa-romeo</td>\n",
       "      <td>Alfa Romeo GTV</td>\n",
       "      <td>red</td>\n",
       "      <td>01/10/1995</td>\n",
       "      <td>1995.0</td>\n",
       "      <td>1300.0</td>\n",
       "      <td>148.0</td>\n",
       "      <td>201.0</td>\n",
       "      <td>Manual</td>\n",
       "      <td>Petrol</td>\n",
       "      <td>10,9 l/100 km</td>\n",
       "      <td>260.0</td>\n",
       "      <td>1605000.0</td>\n",
       "      <td>2.0 V6 TB</td>\n",
       "    </tr>\n",
       "    <tr>\n",
       "      <th>3</th>\n",
       "      <td>alfa-romeo</td>\n",
       "      <td>Alfa Romeo Spider</td>\n",
       "      <td>black</td>\n",
       "      <td>01/07/1995</td>\n",
       "      <td>1995.0</td>\n",
       "      <td>4900.0</td>\n",
       "      <td>110.0</td>\n",
       "      <td>150.0</td>\n",
       "      <td>Manual</td>\n",
       "      <td>Petrol</td>\n",
       "      <td>9,5 l/100 km</td>\n",
       "      <td>225.0</td>\n",
       "      <td>1895000.0</td>\n",
       "      <td>2.0 16V Twin Spark L</td>\n",
       "    </tr>\n",
       "    <tr>\n",
       "      <th>4</th>\n",
       "      <td>alfa-romeo</td>\n",
       "      <td>Alfa Romeo 164</td>\n",
       "      <td>red</td>\n",
       "      <td>01/11/1996</td>\n",
       "      <td>1996.0</td>\n",
       "      <td>17950.0</td>\n",
       "      <td>132.0</td>\n",
       "      <td>179.0</td>\n",
       "      <td>Manual</td>\n",
       "      <td>Petrol</td>\n",
       "      <td>7,2 l/100 km</td>\n",
       "      <td>NaN</td>\n",
       "      <td>961270.0</td>\n",
       "      <td>3.0i Super V6, absoluter Topzustand !</td>\n",
       "    </tr>\n",
       "    <tr>\n",
       "      <th>5</th>\n",
       "      <td>alfa-romeo</td>\n",
       "      <td>Alfa Romeo Spider</td>\n",
       "      <td>red</td>\n",
       "      <td>01/04/1996</td>\n",
       "      <td>1996.0</td>\n",
       "      <td>7900.0</td>\n",
       "      <td>110.0</td>\n",
       "      <td>150.0</td>\n",
       "      <td>Manual</td>\n",
       "      <td>Petrol</td>\n",
       "      <td>9,5 l/100 km</td>\n",
       "      <td>225.0</td>\n",
       "      <td>473070.0</td>\n",
       "      <td>2.0 16V Twin Spark</td>\n",
       "    </tr>\n",
       "    <tr>\n",
       "      <th>6</th>\n",
       "      <td>alfa-romeo</td>\n",
       "      <td>Alfa Romeo 145</td>\n",
       "      <td>red</td>\n",
       "      <td>01/12/1996</td>\n",
       "      <td>1996.0</td>\n",
       "      <td>3500.0</td>\n",
       "      <td>110.0</td>\n",
       "      <td>150.0</td>\n",
       "      <td>Manual</td>\n",
       "      <td>Petrol</td>\n",
       "      <td>8,8 l/100 km</td>\n",
       "      <td>210.0</td>\n",
       "      <td>2300000.0</td>\n",
       "      <td>Quadrifoglio</td>\n",
       "    </tr>\n",
       "  </tbody>\n",
       "</table>\n",
       "</div>"
      ],
      "text/plain": [
       "        brand              model  color registration_date    year  \\\n",
       "0  alfa-romeo     Alfa Romeo GTV    red        01/10/1995  1995.0   \n",
       "3  alfa-romeo  Alfa Romeo Spider  black        01/07/1995  1995.0   \n",
       "4  alfa-romeo     Alfa Romeo 164    red        01/11/1996  1996.0   \n",
       "5  alfa-romeo  Alfa Romeo Spider    red        01/04/1996  1996.0   \n",
       "6  alfa-romeo     Alfa Romeo 145    red        01/12/1996  1996.0   \n",
       "\n",
       "   price_in_euro  power_kw  power_ps transmission_type fuel_type  \\\n",
       "0         1300.0     148.0     201.0            Manual    Petrol   \n",
       "3         4900.0     110.0     150.0            Manual    Petrol   \n",
       "4        17950.0     132.0     179.0            Manual    Petrol   \n",
       "5         7900.0     110.0     150.0            Manual    Petrol   \n",
       "6         3500.0     110.0     150.0            Manual    Petrol   \n",
       "\n",
       "  fuel_consumption_l_100km  fuel_consumption_g_km  mileage_in_km  \\\n",
       "0            10,9 l/100 km                  260.0      1605000.0   \n",
       "3             9,5 l/100 km                  225.0      1895000.0   \n",
       "4             7,2 l/100 km                    NaN       961270.0   \n",
       "5             9,5 l/100 km                  225.0       473070.0   \n",
       "6             8,8 l/100 km                  210.0      2300000.0   \n",
       "\n",
       "                       offer_description  \n",
       "0                              2.0 V6 TB  \n",
       "3                   2.0 16V Twin Spark L  \n",
       "4  3.0i Super V6, absoluter Topzustand !  \n",
       "5                     2.0 16V Twin Spark  \n",
       "6                           Quadrifoglio  "
      ]
     },
     "execution_count": 147,
     "metadata": {},
     "output_type": "execute_result"
    }
   ],
   "source": [
    "df_main.head()"
   ]
  },
  {
   "cell_type": "code",
   "execution_count": 148,
   "id": "52e9010e-fd90-4673-b1ea-aecf5cc692fc",
   "metadata": {},
   "outputs": [],
   "source": [
    "df_main[\"fuel_consumption_l_100km\"] = df_main[\"fuel_consumption_l_100km\"].str.extract(r'(\\d+\\.?\\d*)').astype(float) "
   ]
  },
  {
   "cell_type": "code",
   "execution_count": 149,
   "id": "5e1eb2f8-329e-4dad-9af7-8a6be92a0b01",
   "metadata": {},
   "outputs": [
    {
     "data": {
      "text/html": [
       "<div>\n",
       "<style scoped>\n",
       "    .dataframe tbody tr th:only-of-type {\n",
       "        vertical-align: middle;\n",
       "    }\n",
       "\n",
       "    .dataframe tbody tr th {\n",
       "        vertical-align: top;\n",
       "    }\n",
       "\n",
       "    .dataframe thead th {\n",
       "        text-align: right;\n",
       "    }\n",
       "</style>\n",
       "<table border=\"1\" class=\"dataframe\">\n",
       "  <thead>\n",
       "    <tr style=\"text-align: right;\">\n",
       "      <th></th>\n",
       "      <th>brand</th>\n",
       "      <th>model</th>\n",
       "      <th>color</th>\n",
       "      <th>registration_date</th>\n",
       "      <th>year</th>\n",
       "      <th>price_in_euro</th>\n",
       "      <th>power_kw</th>\n",
       "      <th>power_ps</th>\n",
       "      <th>transmission_type</th>\n",
       "      <th>fuel_type</th>\n",
       "      <th>fuel_consumption_l_100km</th>\n",
       "      <th>fuel_consumption_g_km</th>\n",
       "      <th>mileage_in_km</th>\n",
       "      <th>offer_description</th>\n",
       "    </tr>\n",
       "  </thead>\n",
       "  <tbody>\n",
       "    <tr>\n",
       "      <th>0</th>\n",
       "      <td>alfa-romeo</td>\n",
       "      <td>Alfa Romeo GTV</td>\n",
       "      <td>red</td>\n",
       "      <td>01/10/1995</td>\n",
       "      <td>1995.0</td>\n",
       "      <td>1300.0</td>\n",
       "      <td>148.0</td>\n",
       "      <td>201.0</td>\n",
       "      <td>Manual</td>\n",
       "      <td>Petrol</td>\n",
       "      <td>10.0</td>\n",
       "      <td>260.0</td>\n",
       "      <td>1605000.0</td>\n",
       "      <td>2.0 V6 TB</td>\n",
       "    </tr>\n",
       "    <tr>\n",
       "      <th>3</th>\n",
       "      <td>alfa-romeo</td>\n",
       "      <td>Alfa Romeo Spider</td>\n",
       "      <td>black</td>\n",
       "      <td>01/07/1995</td>\n",
       "      <td>1995.0</td>\n",
       "      <td>4900.0</td>\n",
       "      <td>110.0</td>\n",
       "      <td>150.0</td>\n",
       "      <td>Manual</td>\n",
       "      <td>Petrol</td>\n",
       "      <td>9.0</td>\n",
       "      <td>225.0</td>\n",
       "      <td>1895000.0</td>\n",
       "      <td>2.0 16V Twin Spark L</td>\n",
       "    </tr>\n",
       "    <tr>\n",
       "      <th>4</th>\n",
       "      <td>alfa-romeo</td>\n",
       "      <td>Alfa Romeo 164</td>\n",
       "      <td>red</td>\n",
       "      <td>01/11/1996</td>\n",
       "      <td>1996.0</td>\n",
       "      <td>17950.0</td>\n",
       "      <td>132.0</td>\n",
       "      <td>179.0</td>\n",
       "      <td>Manual</td>\n",
       "      <td>Petrol</td>\n",
       "      <td>7.0</td>\n",
       "      <td>NaN</td>\n",
       "      <td>961270.0</td>\n",
       "      <td>3.0i Super V6, absoluter Topzustand !</td>\n",
       "    </tr>\n",
       "    <tr>\n",
       "      <th>5</th>\n",
       "      <td>alfa-romeo</td>\n",
       "      <td>Alfa Romeo Spider</td>\n",
       "      <td>red</td>\n",
       "      <td>01/04/1996</td>\n",
       "      <td>1996.0</td>\n",
       "      <td>7900.0</td>\n",
       "      <td>110.0</td>\n",
       "      <td>150.0</td>\n",
       "      <td>Manual</td>\n",
       "      <td>Petrol</td>\n",
       "      <td>9.0</td>\n",
       "      <td>225.0</td>\n",
       "      <td>473070.0</td>\n",
       "      <td>2.0 16V Twin Spark</td>\n",
       "    </tr>\n",
       "    <tr>\n",
       "      <th>6</th>\n",
       "      <td>alfa-romeo</td>\n",
       "      <td>Alfa Romeo 145</td>\n",
       "      <td>red</td>\n",
       "      <td>01/12/1996</td>\n",
       "      <td>1996.0</td>\n",
       "      <td>3500.0</td>\n",
       "      <td>110.0</td>\n",
       "      <td>150.0</td>\n",
       "      <td>Manual</td>\n",
       "      <td>Petrol</td>\n",
       "      <td>8.0</td>\n",
       "      <td>210.0</td>\n",
       "      <td>2300000.0</td>\n",
       "      <td>Quadrifoglio</td>\n",
       "    </tr>\n",
       "  </tbody>\n",
       "</table>\n",
       "</div>"
      ],
      "text/plain": [
       "        brand              model  color registration_date    year  \\\n",
       "0  alfa-romeo     Alfa Romeo GTV    red        01/10/1995  1995.0   \n",
       "3  alfa-romeo  Alfa Romeo Spider  black        01/07/1995  1995.0   \n",
       "4  alfa-romeo     Alfa Romeo 164    red        01/11/1996  1996.0   \n",
       "5  alfa-romeo  Alfa Romeo Spider    red        01/04/1996  1996.0   \n",
       "6  alfa-romeo     Alfa Romeo 145    red        01/12/1996  1996.0   \n",
       "\n",
       "   price_in_euro  power_kw  power_ps transmission_type fuel_type  \\\n",
       "0         1300.0     148.0     201.0            Manual    Petrol   \n",
       "3         4900.0     110.0     150.0            Manual    Petrol   \n",
       "4        17950.0     132.0     179.0            Manual    Petrol   \n",
       "5         7900.0     110.0     150.0            Manual    Petrol   \n",
       "6         3500.0     110.0     150.0            Manual    Petrol   \n",
       "\n",
       "   fuel_consumption_l_100km  fuel_consumption_g_km  mileage_in_km  \\\n",
       "0                      10.0                  260.0      1605000.0   \n",
       "3                       9.0                  225.0      1895000.0   \n",
       "4                       7.0                    NaN       961270.0   \n",
       "5                       9.0                  225.0       473070.0   \n",
       "6                       8.0                  210.0      2300000.0   \n",
       "\n",
       "                       offer_description  \n",
       "0                              2.0 V6 TB  \n",
       "3                   2.0 16V Twin Spark L  \n",
       "4  3.0i Super V6, absoluter Topzustand !  \n",
       "5                     2.0 16V Twin Spark  \n",
       "6                           Quadrifoglio  "
      ]
     },
     "execution_count": 149,
     "metadata": {},
     "output_type": "execute_result"
    }
   ],
   "source": [
    "df_main.head()"
   ]
  },
  {
   "cell_type": "markdown",
   "id": "f884d3c0-5d2e-4a05-89b8-7c12e27cf295",
   "metadata": {},
   "source": [
    "Since there are missing values in the fuel_consumpiton_g_km columns. We can calculate those values from fuel_consumption_l_100km column and replace those values by the following formula for calculation:\n",
    "\n",
    "\n",
    "$$\n",
    "\\text{Fuel Consumption (g/km)} = \\frac{\\text{L/100km} \\times \\text{Fuel Density (kg/L)} \\times 1000}{100}\n",
    "$$\n",
    "\n",
    "Where:\n",
    "- **L/100km** is the fuel usage\n",
    "- **Fuel Density** ≈ 0.745 for petrol, 0.832 for diesel\n",
    "- `1000` converts kg to grams"
   ]
  },
  {
   "cell_type": "code",
   "execution_count": 151,
   "id": "d10c056a-cab3-435b-b636-31e2bf078f04",
   "metadata": {},
   "outputs": [],
   "source": [
    "petrol_density = 0.745  # kg/L\n",
    "diesel_density = 0.832  # kg/L\n",
    "\n",
    "def estimate_g_km(row):\n",
    "    if pd.isna(row[\"fuel_consumption_g_km\"]) and not pd.isna(row[\"fuel_consumption_l_100km\"]):\n",
    "        if row[\"fuel_type\"].lower() == \"petrol\":\n",
    "            return (row[\"fuel_consumption_l_100km\"] * petrol_density * 1000) / 100\n",
    "        elif row[\"fuel_type\"].lower() == \"diesel\":\n",
    "            return (row[\"fuel_consumption_l_100km\"] * diesel_density * 1000) / 100\n",
    "    return row[\"fuel_consumption_g_km\"]\n",
    "\n",
    "df_main[\"fuel_consumption_g_km\"] = df_main.apply(estimate_g_km, axis=1)"
   ]
  },
  {
   "cell_type": "markdown",
   "id": "ad61698d-dd9c-42b3-a4cb-616351fdec08",
   "metadata": {},
   "source": [
    "We can also find the main model names of the cars from the model column for an overviewing"
   ]
  },
  {
   "cell_type": "code",
   "execution_count": 153,
   "id": "01e096d2-ada0-4447-a7ce-828c1607eb53",
   "metadata": {
    "scrolled": true
   },
   "outputs": [
    {
     "data": {
      "text/plain": [
       "47"
      ]
     },
     "execution_count": 153,
     "metadata": {},
     "output_type": "execute_result"
    }
   ],
   "source": [
    "df_main[\"brand\"].nunique()"
   ]
  },
  {
   "cell_type": "code",
   "execution_count": 154,
   "id": "fab1f28c-450b-4342-a778-59688b880a36",
   "metadata": {},
   "outputs": [
    {
     "data": {
      "text/plain": [
       "['alfa-romeo',\n",
       " 'aston-martin',\n",
       " 'audi',\n",
       " 'bentley',\n",
       " 'bmw',\n",
       " 'cadillac',\n",
       " 'chevrolet',\n",
       " 'chrysler',\n",
       " 'citroen',\n",
       " 'dacia',\n",
       " 'daewoo',\n",
       " 'daihatsu',\n",
       " 'dodge',\n",
       " 'ferrari',\n",
       " 'fiat',\n",
       " 'ford',\n",
       " 'honda',\n",
       " 'hyundai',\n",
       " 'infiniti',\n",
       " 'isuzu',\n",
       " 'jaguar',\n",
       " 'jeep',\n",
       " 'kia',\n",
       " 'lada',\n",
       " 'lamborghini',\n",
       " 'lancia',\n",
       " 'land-rover',\n",
       " 'maserati',\n",
       " 'mazda',\n",
       " 'mercedes-benz',\n",
       " 'mini',\n",
       " 'mitsubishi',\n",
       " 'nissan',\n",
       " 'opel',\n",
       " 'peugeot',\n",
       " 'porsche',\n",
       " 'proton',\n",
       " 'renault',\n",
       " 'rover',\n",
       " 'saab',\n",
       " 'seat',\n",
       " 'skoda',\n",
       " 'smart',\n",
       " 'ssangyong',\n",
       " 'toyota',\n",
       " 'volkswagen',\n",
       " 'volvo']"
      ]
     },
     "execution_count": 154,
     "metadata": {},
     "output_type": "execute_result"
    }
   ],
   "source": [
    "df_main[\"brand\"].unique().tolist()"
   ]
  },
  {
   "cell_type": "markdown",
   "id": "fc060fd5-d067-46ad-a166-96cdd38741c6",
   "metadata": {},
   "source": [
    "Here we can see that there are main 47 brands of cars in the dataset each of them having their respective models names. They all are already arranged in an alphabetical order"
   ]
  },
  {
   "cell_type": "markdown",
   "id": "c765ccfb-59a4-4d91-be85-3374802ee88f",
   "metadata": {},
   "source": [
    "We will just check the duplicated values to avoid any errors and repatation"
   ]
  },
  {
   "cell_type": "code",
   "execution_count": 157,
   "id": "12201b4f-c22d-4495-9e95-a2374b4d7f09",
   "metadata": {},
   "outputs": [
    {
     "data": {
      "text/plain": [
       "0         False\n",
       "3         False\n",
       "4         False\n",
       "5         False\n",
       "6         False\n",
       "          ...  \n",
       "251071    False\n",
       "251072    False\n",
       "251073    False\n",
       "251075    False\n",
       "251076    False\n",
       "Length: 224014, dtype: bool"
      ]
     },
     "execution_count": 157,
     "metadata": {},
     "output_type": "execute_result"
    }
   ],
   "source": [
    "df_main.duplicated()"
   ]
  },
  {
   "cell_type": "code",
   "execution_count": 158,
   "id": "a884b375-302b-4115-98b1-7dbe51719b91",
   "metadata": {},
   "outputs": [
    {
     "data": {
      "text/html": [
       "<div>\n",
       "<style scoped>\n",
       "    .dataframe tbody tr th:only-of-type {\n",
       "        vertical-align: middle;\n",
       "    }\n",
       "\n",
       "    .dataframe tbody tr th {\n",
       "        vertical-align: top;\n",
       "    }\n",
       "\n",
       "    .dataframe thead th {\n",
       "        text-align: right;\n",
       "    }\n",
       "</style>\n",
       "<table border=\"1\" class=\"dataframe\">\n",
       "  <thead>\n",
       "    <tr style=\"text-align: right;\">\n",
       "      <th></th>\n",
       "      <th>brand</th>\n",
       "      <th>model</th>\n",
       "      <th>color</th>\n",
       "      <th>registration_date</th>\n",
       "      <th>year</th>\n",
       "      <th>price_in_euro</th>\n",
       "      <th>power_kw</th>\n",
       "      <th>power_ps</th>\n",
       "      <th>transmission_type</th>\n",
       "      <th>fuel_type</th>\n",
       "      <th>fuel_consumption_l_100km</th>\n",
       "      <th>fuel_consumption_g_km</th>\n",
       "      <th>mileage_in_km</th>\n",
       "      <th>offer_description</th>\n",
       "    </tr>\n",
       "  </thead>\n",
       "  <tbody>\n",
       "    <tr>\n",
       "      <th>0</th>\n",
       "      <td>alfa-romeo</td>\n",
       "      <td>Alfa Romeo GTV</td>\n",
       "      <td>red</td>\n",
       "      <td>01.10.1995</td>\n",
       "      <td>1995.0</td>\n",
       "      <td>1300.0</td>\n",
       "      <td>148.0</td>\n",
       "      <td>201.0</td>\n",
       "      <td>Manual</td>\n",
       "      <td>Petrol</td>\n",
       "      <td>10.0</td>\n",
       "      <td>260.00</td>\n",
       "      <td>1605000.0</td>\n",
       "      <td>2.0 V6 TB</td>\n",
       "    </tr>\n",
       "    <tr>\n",
       "      <th>3</th>\n",
       "      <td>alfa-romeo</td>\n",
       "      <td>Alfa Romeo Spider</td>\n",
       "      <td>black</td>\n",
       "      <td>01.07.1995</td>\n",
       "      <td>1995.0</td>\n",
       "      <td>4900.0</td>\n",
       "      <td>110.0</td>\n",
       "      <td>150.0</td>\n",
       "      <td>Manual</td>\n",
       "      <td>Petrol</td>\n",
       "      <td>9.0</td>\n",
       "      <td>225.00</td>\n",
       "      <td>1895000.0</td>\n",
       "      <td>2.0 16V Twin Spark L</td>\n",
       "    </tr>\n",
       "    <tr>\n",
       "      <th>4</th>\n",
       "      <td>alfa-romeo</td>\n",
       "      <td>Alfa Romeo 164</td>\n",
       "      <td>red</td>\n",
       "      <td>01.11.1996</td>\n",
       "      <td>1996.0</td>\n",
       "      <td>17950.0</td>\n",
       "      <td>132.0</td>\n",
       "      <td>179.0</td>\n",
       "      <td>Manual</td>\n",
       "      <td>Petrol</td>\n",
       "      <td>7.0</td>\n",
       "      <td>52.15</td>\n",
       "      <td>961270.0</td>\n",
       "      <td>3.0i Super V6, absoluter Topzustand !</td>\n",
       "    </tr>\n",
       "  </tbody>\n",
       "</table>\n",
       "</div>"
      ],
      "text/plain": [
       "        brand              model  color registration_date    year  \\\n",
       "0  alfa-romeo     Alfa Romeo GTV    red        01.10.1995  1995.0   \n",
       "3  alfa-romeo  Alfa Romeo Spider  black        01.07.1995  1995.0   \n",
       "4  alfa-romeo     Alfa Romeo 164    red        01.11.1996  1996.0   \n",
       "\n",
       "   price_in_euro  power_kw  power_ps transmission_type fuel_type  \\\n",
       "0         1300.0     148.0     201.0            Manual    Petrol   \n",
       "3         4900.0     110.0     150.0            Manual    Petrol   \n",
       "4        17950.0     132.0     179.0            Manual    Petrol   \n",
       "\n",
       "   fuel_consumption_l_100km  fuel_consumption_g_km  mileage_in_km  \\\n",
       "0                      10.0                 260.00      1605000.0   \n",
       "3                       9.0                 225.00      1895000.0   \n",
       "4                       7.0                  52.15       961270.0   \n",
       "\n",
       "                       offer_description  \n",
       "0                              2.0 V6 TB  \n",
       "3                   2.0 16V Twin Spark L  \n",
       "4  3.0i Super V6, absoluter Topzustand !  "
      ]
     },
     "execution_count": 158,
     "metadata": {},
     "output_type": "execute_result"
    }
   ],
   "source": [
    "#Converting the Date format\n",
    "df_main[\"registration_date\"] = df_main[\"registration_date\"].str.replace(\"/\", \".\", regex=False)\n",
    "df_main.head(3)"
   ]
  },
  {
   "cell_type": "code",
   "execution_count": 196,
   "id": "5e151194-d3fb-4ab7-8807-3f3b56209cde",
   "metadata": {},
   "outputs": [],
   "source": [
    "df_main = df_main[df_main[\"mileage_in_km\"] != 0]"
   ]
  },
  {
   "cell_type": "code",
   "execution_count": 198,
   "id": "20da5b5a-6d95-4d3c-8ab5-032f48a658b3",
   "metadata": {},
   "outputs": [
    {
     "data": {
      "text/plain": [
       "0"
      ]
     },
     "execution_count": 198,
     "metadata": {},
     "output_type": "execute_result"
    }
   ],
   "source": [
    "(df_main[\"mileage_in_km\"] == 0).sum()"
   ]
  },
  {
   "cell_type": "markdown",
   "id": "4df3feae-d2e7-4cf6-9d4b-62e357e1c4a4",
   "metadata": {},
   "source": [
    "- **Saving the cleaned Dataset**"
   ]
  },
  {
   "cell_type": "code",
   "execution_count": 194,
   "id": "ebf42b75-34f2-420d-ac84-b00d9450c964",
   "metadata": {},
   "outputs": [
    {
     "name": "stdout",
     "output_type": "stream",
     "text": [
      "The cleaned dataset has been saved\n"
     ]
    }
   ],
   "source": [
    "df_main.to_csv(\"cars_dataset_cleaned.csv\", index=False)\n",
    "print(\"The cleaned dataset has been saved\")"
   ]
  }
 ],
 "metadata": {
  "kernelspec": {
   "display_name": "Python [conda env:base] *",
   "language": "python",
   "name": "conda-base-py"
  },
  "language_info": {
   "codemirror_mode": {
    "name": "ipython",
    "version": 3
   },
   "file_extension": ".py",
   "mimetype": "text/x-python",
   "name": "python",
   "nbconvert_exporter": "python",
   "pygments_lexer": "ipython3",
   "version": "3.12.7"
  }
 },
 "nbformat": 4,
 "nbformat_minor": 5
}
