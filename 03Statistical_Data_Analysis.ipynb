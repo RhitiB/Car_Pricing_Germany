{
 "cells": [
  {
   "cell_type": "markdown",
   "id": "37774c00-bd7e-482c-8f24-5c72063a9402",
   "metadata": {},
   "source": [
    "# Statistical Inference on Car Price Prediction in the German Used Market"
   ]
  },
  {
   "cell_type": "markdown",
   "id": "9aacc93f-bd08-4b50-8a51-4d77903a00b9",
   "metadata": {},
   "source": [
    "## 1. 📌 Introduction\n",
    "- Objective: To perform hypothesis testing and confidence intervals on the dataset\n",
    "- Dataset Source: Autoscout24.de or Kaggle  \n",
    "- Features:\n",
    "  - Brand: The brand or manufacturer of the car.\n",
    "  - Model: The specific model of the car.\n",
    "  - Color: The color of the car's exterior.\n",
    "  - Registration Date: The date when the car was registered (Month/Year).\n",
    "  - Year of Production: The year in which the car was manufactured.\n",
    "  - Price in Euro: The price of the car in Euros.\n",
    "  - Power: The power of the car in kilowatts (kW) and horsepower (ps).\n",
    "  - Transmission Type: The type of transmission (e.g., automatic, manual).\n",
    "  - Fuel Type: The type of fuel the car requires.\n",
    "  - Fuel Consumption: Information about the car's fuel consumption in L/100km ang g/km.\n",
    "  - Mileage: The total distance traveled by the car in km.\n",
    "  - Offer Description: Additional description provided in the car offer.   \n",
    "- Tools & Libraries Used\n",
    "  - Python, Jupyter Notebbok\n",
    "  - Libraries: Python Pandas, Numpy, SciPy, Scikit, Seaborn, Matplotlib"
   ]
  },
  {
   "cell_type": "code",
   "execution_count": 109,
   "id": "5e14cffa-d6ac-4c46-ad85-be8cd1ffeee2",
   "metadata": {},
   "outputs": [],
   "source": [
    "import numpy as np\n",
    "import pandas as pd\n",
    "import seaborn as sns\n",
    "import matplotlib.pyplot as plt\n",
    "import scipy.stats as stats\n",
    "import statsmodels.api as sm"
   ]
  },
  {
   "cell_type": "code",
   "execution_count": 7,
   "id": "a3173a07-d893-4fec-9b70-d88bc6911982",
   "metadata": {},
   "outputs": [
    {
     "data": {
      "text/html": [
       "<div>\n",
       "<style scoped>\n",
       "    .dataframe tbody tr th:only-of-type {\n",
       "        vertical-align: middle;\n",
       "    }\n",
       "\n",
       "    .dataframe tbody tr th {\n",
       "        vertical-align: top;\n",
       "    }\n",
       "\n",
       "    .dataframe thead th {\n",
       "        text-align: right;\n",
       "    }\n",
       "</style>\n",
       "<table border=\"1\" class=\"dataframe\">\n",
       "  <thead>\n",
       "    <tr style=\"text-align: right;\">\n",
       "      <th></th>\n",
       "      <th>brand</th>\n",
       "      <th>model</th>\n",
       "      <th>color</th>\n",
       "      <th>registration_date</th>\n",
       "      <th>year</th>\n",
       "      <th>price_in_euro</th>\n",
       "      <th>power_kw</th>\n",
       "      <th>power_ps</th>\n",
       "      <th>transmission_type</th>\n",
       "      <th>fuel_type</th>\n",
       "      <th>fuel_consumption_l_100km</th>\n",
       "      <th>fuel_consumption_g_km</th>\n",
       "      <th>mileage_in_km</th>\n",
       "      <th>offer_description</th>\n",
       "    </tr>\n",
       "  </thead>\n",
       "  <tbody>\n",
       "    <tr>\n",
       "      <th>0</th>\n",
       "      <td>alfa-romeo</td>\n",
       "      <td>Alfa Romeo GTV</td>\n",
       "      <td>red</td>\n",
       "      <td>01.10.1995</td>\n",
       "      <td>1995.0</td>\n",
       "      <td>1300.0</td>\n",
       "      <td>148.0</td>\n",
       "      <td>201.0</td>\n",
       "      <td>Manual</td>\n",
       "      <td>Petrol</td>\n",
       "      <td>10.0</td>\n",
       "      <td>260.00</td>\n",
       "      <td>1605000.0</td>\n",
       "      <td>2.0 V6 TB</td>\n",
       "    </tr>\n",
       "    <tr>\n",
       "      <th>1</th>\n",
       "      <td>alfa-romeo</td>\n",
       "      <td>Alfa Romeo Spider</td>\n",
       "      <td>black</td>\n",
       "      <td>01.07.1995</td>\n",
       "      <td>1995.0</td>\n",
       "      <td>4900.0</td>\n",
       "      <td>110.0</td>\n",
       "      <td>150.0</td>\n",
       "      <td>Manual</td>\n",
       "      <td>Petrol</td>\n",
       "      <td>9.0</td>\n",
       "      <td>225.00</td>\n",
       "      <td>1895000.0</td>\n",
       "      <td>2.0 16V Twin Spark L</td>\n",
       "    </tr>\n",
       "    <tr>\n",
       "      <th>2</th>\n",
       "      <td>alfa-romeo</td>\n",
       "      <td>Alfa Romeo 164</td>\n",
       "      <td>red</td>\n",
       "      <td>01.11.1996</td>\n",
       "      <td>1996.0</td>\n",
       "      <td>17950.0</td>\n",
       "      <td>132.0</td>\n",
       "      <td>179.0</td>\n",
       "      <td>Manual</td>\n",
       "      <td>Petrol</td>\n",
       "      <td>7.0</td>\n",
       "      <td>52.15</td>\n",
       "      <td>961270.0</td>\n",
       "      <td>3.0i Super V6, absoluter Topzustand !</td>\n",
       "    </tr>\n",
       "    <tr>\n",
       "      <th>3</th>\n",
       "      <td>alfa-romeo</td>\n",
       "      <td>Alfa Romeo Spider</td>\n",
       "      <td>red</td>\n",
       "      <td>01.04.1996</td>\n",
       "      <td>1996.0</td>\n",
       "      <td>7900.0</td>\n",
       "      <td>110.0</td>\n",
       "      <td>150.0</td>\n",
       "      <td>Manual</td>\n",
       "      <td>Petrol</td>\n",
       "      <td>9.0</td>\n",
       "      <td>225.00</td>\n",
       "      <td>473070.0</td>\n",
       "      <td>2.0 16V Twin Spark</td>\n",
       "    </tr>\n",
       "    <tr>\n",
       "      <th>4</th>\n",
       "      <td>alfa-romeo</td>\n",
       "      <td>Alfa Romeo 145</td>\n",
       "      <td>red</td>\n",
       "      <td>01.12.1996</td>\n",
       "      <td>1996.0</td>\n",
       "      <td>3500.0</td>\n",
       "      <td>110.0</td>\n",
       "      <td>150.0</td>\n",
       "      <td>Manual</td>\n",
       "      <td>Petrol</td>\n",
       "      <td>8.0</td>\n",
       "      <td>210.00</td>\n",
       "      <td>2300000.0</td>\n",
       "      <td>Quadrifoglio</td>\n",
       "    </tr>\n",
       "  </tbody>\n",
       "</table>\n",
       "</div>"
      ],
      "text/plain": [
       "        brand              model  color registration_date    year  \\\n",
       "0  alfa-romeo     Alfa Romeo GTV    red        01.10.1995  1995.0   \n",
       "1  alfa-romeo  Alfa Romeo Spider  black        01.07.1995  1995.0   \n",
       "2  alfa-romeo     Alfa Romeo 164    red        01.11.1996  1996.0   \n",
       "3  alfa-romeo  Alfa Romeo Spider    red        01.04.1996  1996.0   \n",
       "4  alfa-romeo     Alfa Romeo 145    red        01.12.1996  1996.0   \n",
       "\n",
       "   price_in_euro  power_kw  power_ps transmission_type fuel_type  \\\n",
       "0         1300.0     148.0     201.0            Manual    Petrol   \n",
       "1         4900.0     110.0     150.0            Manual    Petrol   \n",
       "2        17950.0     132.0     179.0            Manual    Petrol   \n",
       "3         7900.0     110.0     150.0            Manual    Petrol   \n",
       "4         3500.0     110.0     150.0            Manual    Petrol   \n",
       "\n",
       "   fuel_consumption_l_100km  fuel_consumption_g_km  mileage_in_km  \\\n",
       "0                      10.0                 260.00      1605000.0   \n",
       "1                       9.0                 225.00      1895000.0   \n",
       "2                       7.0                  52.15       961270.0   \n",
       "3                       9.0                 225.00       473070.0   \n",
       "4                       8.0                 210.00      2300000.0   \n",
       "\n",
       "                       offer_description  \n",
       "0                              2.0 V6 TB  \n",
       "1                   2.0 16V Twin Spark L  \n",
       "2  3.0i Super V6, absoluter Topzustand !  \n",
       "3                     2.0 16V Twin Spark  \n",
       "4                           Quadrifoglio  "
      ]
     },
     "execution_count": 7,
     "metadata": {},
     "output_type": "execute_result"
    }
   ],
   "source": [
    "df_main=pd.read_csv(\"cars_dataset_cleaned.csv\")\n",
    "df_main.head()"
   ]
  },
  {
   "cell_type": "markdown",
   "id": "19f611ed-d269-43c8-92a6-b504825a3bd3",
   "metadata": {},
   "source": [
    "## Sampling \n",
    "\n",
    "For better understanding we will sample 100 cars for the following hypothesis tests"
   ]
  },
  {
   "cell_type": "code",
   "execution_count": 111,
   "id": "782e430a-7b2e-453b-a8fc-be226a4f1432",
   "metadata": {},
   "outputs": [
    {
     "data": {
      "text/html": [
       "<div>\n",
       "<style scoped>\n",
       "    .dataframe tbody tr th:only-of-type {\n",
       "        vertical-align: middle;\n",
       "    }\n",
       "\n",
       "    .dataframe tbody tr th {\n",
       "        vertical-align: top;\n",
       "    }\n",
       "\n",
       "    .dataframe thead th {\n",
       "        text-align: right;\n",
       "    }\n",
       "</style>\n",
       "<table border=\"1\" class=\"dataframe\">\n",
       "  <thead>\n",
       "    <tr style=\"text-align: right;\">\n",
       "      <th></th>\n",
       "      <th>brand</th>\n",
       "      <th>model</th>\n",
       "      <th>color</th>\n",
       "      <th>registration_date</th>\n",
       "      <th>year</th>\n",
       "      <th>price_in_euro</th>\n",
       "      <th>power_kw</th>\n",
       "      <th>power_ps</th>\n",
       "      <th>transmission_type</th>\n",
       "      <th>fuel_type</th>\n",
       "      <th>fuel_consumption_l_100km</th>\n",
       "      <th>fuel_consumption_g_km</th>\n",
       "      <th>mileage_in_km</th>\n",
       "      <th>offer_description</th>\n",
       "    </tr>\n",
       "  </thead>\n",
       "  <tbody>\n",
       "    <tr>\n",
       "      <th>87158</th>\n",
       "      <td>mazda</td>\n",
       "      <td>Mazda 3</td>\n",
       "      <td>white</td>\n",
       "      <td>01.03.2015</td>\n",
       "      <td>2015.0</td>\n",
       "      <td>12998.0</td>\n",
       "      <td>110.0</td>\n",
       "      <td>150.0</td>\n",
       "      <td>Automatic</td>\n",
       "      <td>Diesel</td>\n",
       "      <td>4.0</td>\n",
       "      <td>127.00</td>\n",
       "      <td>1386600.0</td>\n",
       "      <td>Center-Line|Navi|Sitzheizung|SpurhalteAssist</td>\n",
       "    </tr>\n",
       "    <tr>\n",
       "      <th>193887</th>\n",
       "      <td>volkswagen</td>\n",
       "      <td>Volkswagen Polo</td>\n",
       "      <td>black</td>\n",
       "      <td>01.04.2007</td>\n",
       "      <td>2007.0</td>\n",
       "      <td>1500.0</td>\n",
       "      <td>59.0</td>\n",
       "      <td>80.0</td>\n",
       "      <td>Manual</td>\n",
       "      <td>Diesel</td>\n",
       "      <td>4.0</td>\n",
       "      <td>119.00</td>\n",
       "      <td>2347770.0</td>\n",
       "      <td>1.4 TDI DPF Tour</td>\n",
       "    </tr>\n",
       "    <tr>\n",
       "      <th>215058</th>\n",
       "      <td>volkswagen</td>\n",
       "      <td>Volkswagen Sharan</td>\n",
       "      <td>black</td>\n",
       "      <td>01.03.2020</td>\n",
       "      <td>2020.0</td>\n",
       "      <td>30990.0</td>\n",
       "      <td>110.0</td>\n",
       "      <td>150.0</td>\n",
       "      <td>Automatic</td>\n",
       "      <td>Petrol</td>\n",
       "      <td>6.0</td>\n",
       "      <td>155.00</td>\n",
       "      <td>588200.0</td>\n",
       "      <td>IQ.Drive 7-Sitze|elek.Türen|Navi|ACC|RFK</td>\n",
       "    </tr>\n",
       "    <tr>\n",
       "      <th>67299</th>\n",
       "      <td>ford</td>\n",
       "      <td>Ford Puma</td>\n",
       "      <td>black</td>\n",
       "      <td>01.02.2023</td>\n",
       "      <td>2023.0</td>\n",
       "      <td>26990.0</td>\n",
       "      <td>92.0</td>\n",
       "      <td>125.0</td>\n",
       "      <td>Automatic</td>\n",
       "      <td>Petrol</td>\n",
       "      <td>5.0</td>\n",
       "      <td>130.00</td>\n",
       "      <td>200.0</td>\n",
       "      <td>1,0 EcoB. Hybrid 92kW Titanium Des. Auto</td>\n",
       "    </tr>\n",
       "    <tr>\n",
       "      <th>22323</th>\n",
       "      <td>bmw</td>\n",
       "      <td>BMW 320</td>\n",
       "      <td>grey</td>\n",
       "      <td>01.07.2003</td>\n",
       "      <td>2003.0</td>\n",
       "      <td>3900.0</td>\n",
       "      <td>110.0</td>\n",
       "      <td>150.0</td>\n",
       "      <td>Manual</td>\n",
       "      <td>Diesel</td>\n",
       "      <td>5.0</td>\n",
       "      <td>41.60</td>\n",
       "      <td>2360000.0</td>\n",
       "      <td>320d touring Edition Sport</td>\n",
       "    </tr>\n",
       "    <tr>\n",
       "      <th>...</th>\n",
       "      <td>...</td>\n",
       "      <td>...</td>\n",
       "      <td>...</td>\n",
       "      <td>...</td>\n",
       "      <td>...</td>\n",
       "      <td>...</td>\n",
       "      <td>...</td>\n",
       "      <td>...</td>\n",
       "      <td>...</td>\n",
       "      <td>...</td>\n",
       "      <td>...</td>\n",
       "      <td>...</td>\n",
       "      <td>...</td>\n",
       "      <td>...</td>\n",
       "    </tr>\n",
       "    <tr>\n",
       "      <th>162165</th>\n",
       "      <td>seat</td>\n",
       "      <td>SEAT Arona</td>\n",
       "      <td>black</td>\n",
       "      <td>01.12.2019</td>\n",
       "      <td>2019.0</td>\n",
       "      <td>15980.0</td>\n",
       "      <td>70.0</td>\n",
       "      <td>95.0</td>\n",
       "      <td>Manual</td>\n",
       "      <td>Petrol</td>\n",
       "      <td>4.0</td>\n",
       "      <td>113.00</td>\n",
       "      <td>70000.0</td>\n",
       "      <td>Style*SHZ*PDC*MFL*FrontAssist*USB*</td>\n",
       "    </tr>\n",
       "    <tr>\n",
       "      <th>119692</th>\n",
       "      <td>nissan</td>\n",
       "      <td>Nissan Pixo</td>\n",
       "      <td>black</td>\n",
       "      <td>01.09.2009</td>\n",
       "      <td>2009.0</td>\n",
       "      <td>3990.0</td>\n",
       "      <td>50.0</td>\n",
       "      <td>68.0</td>\n",
       "      <td>Manual</td>\n",
       "      <td>Petrol</td>\n",
       "      <td>4.0</td>\n",
       "      <td>99.00</td>\n",
       "      <td>740000.0</td>\n",
       "      <td>1.0 acenta</td>\n",
       "    </tr>\n",
       "    <tr>\n",
       "      <th>61499</th>\n",
       "      <td>ford</td>\n",
       "      <td>Ford Kuga</td>\n",
       "      <td>blue</td>\n",
       "      <td>01.11.2019</td>\n",
       "      <td>2019.0</td>\n",
       "      <td>21929.0</td>\n",
       "      <td>110.0</td>\n",
       "      <td>150.0</td>\n",
       "      <td>Manual</td>\n",
       "      <td>Petrol</td>\n",
       "      <td>7.0</td>\n",
       "      <td>158.00</td>\n",
       "      <td>275800.0</td>\n",
       "      <td>1.5 EcoBoost 2x4 Titanium+XENON+RFK</td>\n",
       "    </tr>\n",
       "    <tr>\n",
       "      <th>190528</th>\n",
       "      <td>volkswagen</td>\n",
       "      <td>Volkswagen Golf</td>\n",
       "      <td>blue</td>\n",
       "      <td>01.03.2001</td>\n",
       "      <td>2001.0</td>\n",
       "      <td>2500.0</td>\n",
       "      <td>85.0</td>\n",
       "      <td>116.0</td>\n",
       "      <td>Manual</td>\n",
       "      <td>Petrol</td>\n",
       "      <td>7.0</td>\n",
       "      <td>52.15</td>\n",
       "      <td>2515000.0</td>\n",
       "      <td>Match</td>\n",
       "    </tr>\n",
       "    <tr>\n",
       "      <th>141395</th>\n",
       "      <td>peugeot</td>\n",
       "      <td>Peugeot 207</td>\n",
       "      <td>grey</td>\n",
       "      <td>01.10.2006</td>\n",
       "      <td>2006.0</td>\n",
       "      <td>1600.0</td>\n",
       "      <td>54.0</td>\n",
       "      <td>73.0</td>\n",
       "      <td>Manual</td>\n",
       "      <td>Petrol</td>\n",
       "      <td>6.0</td>\n",
       "      <td>150.00</td>\n",
       "      <td>2690010.0</td>\n",
       "      <td>*Filou* Klima/EFH/SV/ZV+FB/2.Hd./3-trg.</td>\n",
       "    </tr>\n",
       "  </tbody>\n",
       "</table>\n",
       "<p>100 rows × 14 columns</p>\n",
       "</div>"
      ],
      "text/plain": [
       "             brand              model  color registration_date    year  \\\n",
       "87158        mazda            Mazda 3  white        01.03.2015  2015.0   \n",
       "193887  volkswagen    Volkswagen Polo  black        01.04.2007  2007.0   \n",
       "215058  volkswagen  Volkswagen Sharan  black        01.03.2020  2020.0   \n",
       "67299         ford          Ford Puma  black        01.02.2023  2023.0   \n",
       "22323          bmw            BMW 320   grey        01.07.2003  2003.0   \n",
       "...            ...                ...    ...               ...     ...   \n",
       "162165        seat         SEAT Arona  black        01.12.2019  2019.0   \n",
       "119692      nissan        Nissan Pixo  black        01.09.2009  2009.0   \n",
       "61499         ford          Ford Kuga   blue        01.11.2019  2019.0   \n",
       "190528  volkswagen    Volkswagen Golf   blue        01.03.2001  2001.0   \n",
       "141395     peugeot        Peugeot 207   grey        01.10.2006  2006.0   \n",
       "\n",
       "        price_in_euro  power_kw  power_ps transmission_type fuel_type  \\\n",
       "87158         12998.0     110.0     150.0         Automatic    Diesel   \n",
       "193887         1500.0      59.0      80.0            Manual    Diesel   \n",
       "215058        30990.0     110.0     150.0         Automatic    Petrol   \n",
       "67299         26990.0      92.0     125.0         Automatic    Petrol   \n",
       "22323          3900.0     110.0     150.0            Manual    Diesel   \n",
       "...               ...       ...       ...               ...       ...   \n",
       "162165        15980.0      70.0      95.0            Manual    Petrol   \n",
       "119692         3990.0      50.0      68.0            Manual    Petrol   \n",
       "61499         21929.0     110.0     150.0            Manual    Petrol   \n",
       "190528         2500.0      85.0     116.0            Manual    Petrol   \n",
       "141395         1600.0      54.0      73.0            Manual    Petrol   \n",
       "\n",
       "        fuel_consumption_l_100km  fuel_consumption_g_km  mileage_in_km  \\\n",
       "87158                        4.0                 127.00      1386600.0   \n",
       "193887                       4.0                 119.00      2347770.0   \n",
       "215058                       6.0                 155.00       588200.0   \n",
       "67299                        5.0                 130.00          200.0   \n",
       "22323                        5.0                  41.60      2360000.0   \n",
       "...                          ...                    ...            ...   \n",
       "162165                       4.0                 113.00        70000.0   \n",
       "119692                       4.0                  99.00       740000.0   \n",
       "61499                        7.0                 158.00       275800.0   \n",
       "190528                       7.0                  52.15      2515000.0   \n",
       "141395                       6.0                 150.00      2690010.0   \n",
       "\n",
       "                                   offer_description  \n",
       "87158   Center-Line|Navi|Sitzheizung|SpurhalteAssist  \n",
       "193887                              1.4 TDI DPF Tour  \n",
       "215058      IQ.Drive 7-Sitze|elek.Türen|Navi|ACC|RFK  \n",
       "67299       1,0 EcoB. Hybrid 92kW Titanium Des. Auto  \n",
       "22323                     320d touring Edition Sport  \n",
       "...                                              ...  \n",
       "162165            Style*SHZ*PDC*MFL*FrontAssist*USB*  \n",
       "119692                                    1.0 acenta  \n",
       "61499            1.5 EcoBoost 2x4 Titanium+XENON+RFK  \n",
       "190528                                         Match  \n",
       "141395       *Filou* Klima/EFH/SV/ZV+FB/2.Hd./3-trg.  \n",
       "\n",
       "[100 rows x 14 columns]"
      ]
     },
     "execution_count": 111,
     "metadata": {},
     "output_type": "execute_result"
    }
   ],
   "source": [
    "sampled_data=df_main.sample(n=100, replace=False, random_state=1500)\n",
    "sampled_data"
   ]
  },
  {
   "cell_type": "markdown",
   "id": "841ce4ac-2ae5-45df-a3e2-75f02abf1c34",
   "metadata": {},
   "source": [
    "## Hypothesis testing and Confidence Interval"
   ]
  },
  {
   "cell_type": "markdown",
   "id": "4ca5982e-37ef-4761-a319-246b10eb3d8d",
   "metadata": {
    "jp-MarkdownHeadingCollapsed": true
   },
   "source": [
    "### Hypothesis Testing"
   ]
  },
  {
   "cell_type": "markdown",
   "id": "a10f2c78-6829-4ea5-abe4-7027abf62736",
   "metadata": {},
   "source": [
    "#### 1. Do automatic cars cost more than manual cars?\n",
    "\n",
    "**Null Hypothesis ($H_o$):** Mean price (automatic)= Mean price (Manual)\\\n",
    "**Alternate Hypothesis ($H_\\alpha$):** Mean price (automatic) ≠ Mean price (Manual)"
   ]
  },
  {
   "cell_type": "code",
   "execution_count": 113,
   "id": "f50f9a56-018a-4116-9d17-3da7d9486e32",
   "metadata": {},
   "outputs": [
    {
     "data": {
      "text/plain": [
       "array(['Automatic', 'Manual', 'Semi-automatic'], dtype=object)"
      ]
     },
     "execution_count": 113,
     "metadata": {},
     "output_type": "execute_result"
    }
   ],
   "source": [
    "sampled_data[\"transmission_type\"].unique()"
   ]
  },
  {
   "cell_type": "code",
   "execution_count": 115,
   "id": "53827824-f332-4c0c-b701-ccf80f20ae2a",
   "metadata": {},
   "outputs": [],
   "source": [
    "manual=sampled_data[sampled_data[\"transmission_type\"]==\"Manual\"][\"price_in_euro\"].dropna()\n",
    "auto=sampled_data[sampled_data[\"transmission_type\"]==\"Automatic\"][\"price_in_euro\"].dropna()"
   ]
  },
  {
   "cell_type": "code",
   "execution_count": 117,
   "id": "046c8750-cf17-43c4-a6a1-b64cc2d71878",
   "metadata": {},
   "outputs": [
    {
     "data": {
      "text/plain": [
       "0.05"
      ]
     },
     "execution_count": 117,
     "metadata": {},
     "output_type": "execute_result"
    }
   ],
   "source": [
    "significance_level=0.05\n",
    "significance_level"
   ]
  },
  {
   "cell_type": "code",
   "execution_count": 119,
   "id": "167c022c-e3e1-4d4a-a684-442495e64724",
   "metadata": {},
   "outputs": [
    {
     "name": "stdout",
     "output_type": "stream",
     "text": [
      "T-statistic = -4.42, p-value = 0.000\n"
     ]
    }
   ],
   "source": [
    "t_stat, p_val=ttest_ind(a=manual, b=auto, equal_var=False)\n",
    "print(f\"T-statistic = {t_stat:.2f}, p-value = {p_val:.3f}\")"
   ]
  },
  {
   "cell_type": "markdown",
   "id": "1944dbfe-513e-4a52-927c-c5ac9a8fd1f7",
   "metadata": {},
   "source": [
    "A very large negative T value means manual cars are much cheaper than automatic ones on average. The null p value is less than the significance level of 0.05. Therefore we reject the null hypothesis. We accept the alternative hypothesis and can conclude that Mean price of the automatic cars are not equal to the mean price of the manual ones."
   ]
  },
  {
   "cell_type": "code",
   "execution_count": 121,
   "id": "c96c16f0-f205-42a8-bd4a-061468c1f19c",
   "metadata": {},
   "outputs": [
    {
     "data": {
      "image/png": "[encoded data removed]",
      "text/plain": [
       "<Figure size 500x500 with 1 Axes>"
      ]
     },
     "metadata": {},
     "output_type": "display_data"
    }
   ],
   "source": [
    "manual_mean = manual.mean()\n",
    "auto_mean = auto.mean()\n",
    "plt.figure(figsize=(5, 5))\n",
    "plt.bar([\"Manual\", \"Automatic\"], [manual_mean, auto_mean], color=[\"red\", \"black\"])\n",
    "plt.title(\"Average Car Price by Transmission Type\")\n",
    "plt.ylabel(\"Average Price (€)\")\n",
    "plt.text(0, manual_mean + 100, f\"{manual_mean:.0f} €\", ha='center')\n",
    "plt.text(1, auto_mean + 100, f\"{auto_mean:.0f} €\", ha='center')\n",
    "plt.show()"
   ]
  },
  {
   "cell_type": "markdown",
   "id": "c83ad3ae-3b7e-41cd-9fd4-5f530b88426e",
   "metadata": {},
   "source": [
    "This is also proven by the bar graph where the mean of the automatic cars is noticeably higher than the manual cars"
   ]
  },
  {
   "cell_type": "markdown",
   "id": "fe7eca7d-39b6-43de-a9a8-fde3d6aab9a8",
   "metadata": {},
   "source": [
    "#### 2. Do diesel cars have higher mileage than petrol cars?"
   ]
  },
  {
   "cell_type": "markdown",
   "id": "183c49c8-f4ae-415a-ba65-6fe794f23d38",
   "metadata": {},
   "source": [
    "**Null Hypothesis ($H_o$):** Mean mileage (Diesel cars)= Mean mileage (petrol cars)\\\n",
    "**Alternate Hypothesis ($H_\\alpha$):** Mean mileage (Diesel cars) ≠ Mean mileage (petrol cars)"
   ]
  },
  {
   "cell_type": "code",
   "execution_count": 123,
   "id": "ef0f48fd-1fbf-400d-a934-995f47be1aa4",
   "metadata": {},
   "outputs": [],
   "source": [
    "diesel=sampled_data[sampled_data[\"fuel_type\"]==\"Diesel\"][\"mileage_in_km\"].dropna()\n",
    "petrol=sampled_data[sampled_data[\"fuel_type\"]==\"Petrol\"][\"mileage_in_km\"].dropna()"
   ]
  },
  {
   "cell_type": "code",
   "execution_count": 125,
   "id": "5158655f-5c09-4e71-8da3-8e292c69cdc9",
   "metadata": {},
   "outputs": [
    {
     "data": {
      "text/plain": [
       "0.05"
      ]
     },
     "execution_count": 125,
     "metadata": {},
     "output_type": "execute_result"
    }
   ],
   "source": [
    "significance_level=0.05\n",
    "significance_level"
   ]
  },
  {
   "cell_type": "code",
   "execution_count": 127,
   "id": "420d5647-837b-428b-b53b-7268cd460dad",
   "metadata": {},
   "outputs": [
    {
     "name": "stdout",
     "output_type": "stream",
     "text": [
      "T-statistic = 2.30, p-value = 0.024326\n"
     ]
    }
   ],
   "source": [
    "t_stat, p_val=ttest_ind(a=diesel, b=petrol, equal_var=False)\n",
    "print(f\"T-statistic = {t_stat:.2f}, p-value = {p_val:2f}\")"
   ]
  },
  {
   "cell_type": "markdown",
   "id": "2e3e4034-58fc-4cd4-bf99-b18b3199c1b0",
   "metadata": {},
   "source": [
    "The p-value is again less than the significance level, so we reject the null hypothesis"
   ]
  },
  {
   "cell_type": "code",
   "execution_count": 142,
   "id": "e49256a6-9999-468d-967c-e71705ba9bef",
   "metadata": {},
   "outputs": [
    {
     "data": {
      "image/png": "[encoded data removed]",
      "text/plain": [
       "<Figure size 500x500 with 1 Axes>"
      ]
     },
     "metadata": {},
     "output_type": "display_data"
    }
   ],
   "source": [
    "diesel_mean = diesel.mean()\n",
    "petrol_mean = petrol.mean()\n",
    "plt.figure(figsize=(5, 5))\n",
    "plt.bar([\"Diesel\", \"Petrol\"], [diesel_mean, petrol_mean], color=[\"green\", \"brown\"])\n",
    "plt.title(\"Average Car Mileage by Fuel Type\")\n",
    "plt.ylabel(\"Mileage (km)\")\n",
    "plt.text(0, diesel_mean + 100, f\"{diesel_mean:.0f}km\", ha='center')\n",
    "plt.text(1, petrol_mean + 100, f\"{petrol_mean:.0f}km\", ha='center')\n",
    "plt.show()"
   ]
  },
  {
   "cell_type": "markdown",
   "id": "3450a3a7-5f6a-479e-802c-89f6ecfd142d",
   "metadata": {},
   "source": [
    "- This is true as Diesel cars gives more mileage than the Petrol cars. \n",
    "- The density of the Diesel fuel is more than Petrol. Therefore, we can expect almost 20-25% more mileage of Diesel cars than Petrol cars.\n",
    "- the density of the Diesel fuel also allows engines to extract more energy from the same volume of fuel, resulting in better fuel efficiency."
   ]
  },
  {
   "cell_type": "markdown",
   "id": "63e09c52-1fb7-40d0-b031-6a781c95df22",
   "metadata": {},
   "source": [
    "#### 3. Is the average price of BMW cars significantly different than the Audi cars?"
   ]
  },
  {
   "cell_type": "markdown",
   "id": "55b8930f-930e-4c12-9742-fa5b73749ed7",
   "metadata": {},
   "source": [
    "**Null Hypothesis ($H_o$):** Average price (BMW)= Average Price (Audi)\\\n",
    "**Alternate Hypothesis ($H_\\alpha$):** Average price (BMW) ≠Average Price (Audi)"
   ]
  },
  {
   "cell_type": "code",
   "execution_count": 148,
   "id": "34c4cdf7-3eb6-4c29-9956-bb94d2311c97",
   "metadata": {},
   "outputs": [
    {
     "data": {
      "text/plain": [
       "array(['mazda', 'volkswagen', 'ford', 'bmw', 'citroen', 'mercedes-benz',\n",
       "       'hyundai', 'audi', 'mini', 'kia', 'skoda', 'fiat', 'bentley',\n",
       "       'opel', 'smart', 'peugeot', 'volvo', 'toyota', 'jeep',\n",
       "       'alfa-romeo', 'porsche', 'daihatsu', 'nissan', 'renault',\n",
       "       'land-rover', 'seat'], dtype=object)"
      ]
     },
     "execution_count": 148,
     "metadata": {},
     "output_type": "execute_result"
    }
   ],
   "source": [
    "sampled_data[\"brand\"].unique()"
   ]
  },
  {
   "cell_type": "code",
   "execution_count": 150,
   "id": "8606706e-fc49-49ed-b459-70bc5d938a39",
   "metadata": {},
   "outputs": [],
   "source": [
    "bmw=sampled_data[sampled_data[\"brand\"]==\"bmw\"][\"price_in_euro\"].dropna()\n",
    "audi=sampled_data[sampled_data[\"brand\"]==\"audi\"][\"price_in_euro\"].dropna()"
   ]
  },
  {
   "cell_type": "code",
   "execution_count": 152,
   "id": "a4fa4afd-14f8-46a4-a312-b9efb6a38f15",
   "metadata": {},
   "outputs": [
    {
     "data": {
      "text/plain": [
       "0.05"
      ]
     },
     "execution_count": 152,
     "metadata": {},
     "output_type": "execute_result"
    }
   ],
   "source": [
    "significance_level=0.05\n",
    "significance_level"
   ]
  },
  {
   "cell_type": "code",
   "execution_count": 154,
   "id": "48b15466-a7c1-4e6b-a91b-1002237cf464",
   "metadata": {},
   "outputs": [
    {
     "name": "stdout",
     "output_type": "stream",
     "text": [
      "T-statistic = -1.51, p-value = 0.154022\n"
     ]
    }
   ],
   "source": [
    "t_stat, p_val=ttest_ind(a=bmw, b=audi, equal_var=False)\n",
    "print(f\"T-statistic = {t_stat:.2f}, p-value = {p_val:2f}\")"
   ]
  },
  {
   "cell_type": "markdown",
   "id": "a5cf9410-08fd-4867-8a28-236162de9534",
   "metadata": {},
   "source": [
    "The p value is greater than the significance level, therefore we fail to reject the null hypothesis. This means the average price of BMW cars are almost equal to the average price of Audi cars. "
   ]
  },
  {
   "cell_type": "markdown",
   "id": "ae390544-e31b-47f2-9974-2d158653f726",
   "metadata": {},
   "source": [
    "### Confidence Intervals"
   ]
  },
  {
   "cell_type": "markdown",
   "id": "897fb6ff-40c8-4285-93f5-a86974647aab",
   "metadata": {},
   "source": [
    "#### 1. 95% CI for the mean prices of the VW cars."
   ]
  },
  {
   "cell_type": "code",
   "execution_count": 177,
   "id": "d1dd3b12-6eef-4123-b0ac-a4a61252dcbc",
   "metadata": {},
   "outputs": [
    {
     "name": "stdout",
     "output_type": "stream",
     "text": [
      "VW Mean Price = €18467.26, 95% CI = (18301.764281768366, 18632.76333816027)\n"
     ]
    }
   ],
   "source": [
    "vw_prices=df_main[df_main[\"brand\"]== \"volkswagen\"][\"price_in_euro\"].dropna()\n",
    "mean = np.mean(vw_prices)\n",
    "sem = stats.sem(vw_prices)\n",
    "ci = stats.t.interval(0.95, len(vw_prices)-1, loc=mean, scale=sem)\n",
    "print(f\"VW Mean Price = €{mean:.2f}, 95% CI = {ci}\")"
   ]
  },
  {
   "cell_type": "markdown",
   "id": "06b47958-e297-4608-8097-78bafa627423",
   "metadata": {},
   "source": [
    "#### 2. CI for average price: <100k km vs >100k km"
   ]
  },
  {
   "cell_type": "code",
   "execution_count": 203,
   "id": "38157cb4-2575-4316-b1a5-b49fa394e866",
   "metadata": {},
   "outputs": [
    {
     "name": "stdout",
     "output_type": "stream",
     "text": [
      "<100k km → Mean = €44465.64, 95% CI = (43765.029208785796, 45166.25626904328)\n",
      ">100k km → Mean = €21652.56, 95% CI = (21545.13243672155, 21759.980352938124)\n"
     ]
    }
   ],
   "source": [
    "low = df_main[df_main['mileage_in_km'] <= 100000]['price_in_euro'].dropna()\n",
    "high = df_main[df_main['mileage_in_km'] > 100000]['price_in_euro'].dropna()\n",
    "\n",
    "low_ci = stats.t.interval(0.95, len(low)-1, loc=low.mean(), scale=stats.sem(low))\n",
    "high_ci = stats.t.interval(0.95, len(high)-1, loc=high.mean(), scale=stats.sem(high))\n",
    "\n",
    "print(f\"<100k km → Mean = €{low.mean():.2f}, 95% CI = {low_ci}\")\n",
    "print(f\">100k km → Mean = €{high.mean():.2f}, 95% CI = {high_ci}\")"
   ]
  }
 ],
 "metadata": {
  "kernelspec": {
   "display_name": "Python [conda env:base] *",
   "language": "python",
   "name": "conda-base-py"
  },
  "language_info": {
   "codemirror_mode": {
    "name": "ipython",
    "version": 3
   },
   "file_extension": ".py",
   "mimetype": "text/x-python",
   "name": "python",
   "nbconvert_exporter": "python",
   "pygments_lexer": "ipython3",
   "version": "3.12.7"
  }
 },
 "nbformat": 4,
 "nbformat_minor": 5
}
