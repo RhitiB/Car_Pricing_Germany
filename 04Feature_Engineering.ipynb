{
 "cells": [
  {
   "cell_type": "markdown",
   "id": "99935623-cb6d-40ae-a8ab-193ab54d84e6",
   "metadata": {},
   "source": [
    "# Car Price Prediction in German Used Car Market- Regression Models"
   ]
  },
  {
   "cell_type": "markdown",
   "id": "038bb194-8bc3-4399-9e11-0f4302d1f048",
   "metadata": {},
   "source": [
    "## Objective \n",
    "The goal of this project is to predict the resale price of used cars in the GErman market based on vehicle features such as mileage, power, and age. We'll explore different regression models and evaluate their performance to determine the most effective approach for price prediction. "
   ]
  },
  {
   "cell_type": "code",
   "execution_count": 6,
   "id": "5a4f65fe-510d-4221-b294-da91251d7512",
   "metadata": {},
   "outputs": [
    {
     "name": "stdout",
     "output_type": "stream",
     "text": [
      "Requirement already satisfied: xgboost in c:\\users\\shils\\anaconda3\\lib\\site-packages (3.0.0)\n",
      "Requirement already satisfied: numpy in c:\\users\\shils\\anaconda3\\lib\\site-packages (from xgboost) (1.26.4)\n",
      "Requirement already satisfied: scipy in c:\\users\\shils\\anaconda3\\lib\\site-packages (from xgboost) (1.13.1)\n"
     ]
    }
   ],
   "source": [
    "!pip install xgboost"
   ]
  },
  {
   "cell_type": "markdown",
   "id": "ceed5fd3-08f4-449f-9cf4-6c1f17e41f53",
   "metadata": {},
   "source": [
    "### Tasks Covered\n",
    "- Train-test split and data preprocessing\n",
    "- Linear, Ridge and Lasso Regression\n",
    "- Random Forest and K-Nearest Neighbours\n",
    "- Model Evaluation using MSE and R$^2$"
   ]
  },
  {
   "cell_type": "markdown",
   "id": "04242155-a16e-4476-a097-93f5c1fcd10d",
   "metadata": {},
   "source": [
    "### Imports and Setups"
   ]
  },
  {
   "cell_type": "code",
   "execution_count": 9,
   "id": "5a0c5a21-a527-4198-ab16-9bec4694b3c1",
   "metadata": {},
   "outputs": [],
   "source": [
    "# BASIC LIBRARIES\n",
    "\n",
    "import pandas as pd\n",
    "import numpy as np\n",
    "import matplotlib.pyplot as plt\n",
    "import seaborn as sns\n",
    "\n",
    "# MACHINE LEARNING\n",
    "\n",
    "from sklearn.model_selection import train_test_split,cross_val_score, GridSearchCV\n",
    "from sklearn.preprocessing import StandardScaler\n",
    "from sklearn.linear_model import LinearRegression, Ridge, Lasso\n",
    "from sklearn.ensemble import RandomForestRegressor\n",
    "from sklearn.neighbors import KNeighborsRegressor\n",
    "from sklearn.metrics import mean_absolute_error, mean_squared_error, r2_score\n",
    "import xgboost as xgb\n",
    "from xgboost import  XGBRegressor \n",
    "# METRICS\n",
    "\n",
    "from sklearn.metrics import mean_absolute_error, mean_squared_error, r2_score\n",
    "import pickle"
   ]
  },
  {
   "cell_type": "code",
   "execution_count": 10,
   "id": "890274ee-3794-4814-afe7-3a8b59096a4a",
   "metadata": {},
   "outputs": [
    {
     "data": {
      "text/html": [
       "<div>\n",
       "<style scoped>\n",
       "    .dataframe tbody tr th:only-of-type {\n",
       "        vertical-align: middle;\n",
       "    }\n",
       "\n",
       "    .dataframe tbody tr th {\n",
       "        vertical-align: top;\n",
       "    }\n",
       "\n",
       "    .dataframe thead th {\n",
       "        text-align: right;\n",
       "    }\n",
       "</style>\n",
       "<table border=\"1\" class=\"dataframe\">\n",
       "  <thead>\n",
       "    <tr style=\"text-align: right;\">\n",
       "      <th></th>\n",
       "      <th>brand</th>\n",
       "      <th>model</th>\n",
       "      <th>color</th>\n",
       "      <th>registration_date</th>\n",
       "      <th>year</th>\n",
       "      <th>price_in_euro</th>\n",
       "      <th>power_kw</th>\n",
       "      <th>power_ps</th>\n",
       "      <th>transmission_type</th>\n",
       "      <th>fuel_type</th>\n",
       "      <th>fuel_consumption_l_100km</th>\n",
       "      <th>fuel_consumption_g_km</th>\n",
       "      <th>mileage_in_km</th>\n",
       "      <th>offer_description</th>\n",
       "    </tr>\n",
       "  </thead>\n",
       "  <tbody>\n",
       "    <tr>\n",
       "      <th>0</th>\n",
       "      <td>alfa-romeo</td>\n",
       "      <td>Alfa Romeo GTV</td>\n",
       "      <td>red</td>\n",
       "      <td>01.10.1995</td>\n",
       "      <td>1995.0</td>\n",
       "      <td>1300.0</td>\n",
       "      <td>148.0</td>\n",
       "      <td>201.0</td>\n",
       "      <td>Manual</td>\n",
       "      <td>Petrol</td>\n",
       "      <td>10.0</td>\n",
       "      <td>260.00</td>\n",
       "      <td>1605000.0</td>\n",
       "      <td>2.0 V6 TB</td>\n",
       "    </tr>\n",
       "    <tr>\n",
       "      <th>1</th>\n",
       "      <td>alfa-romeo</td>\n",
       "      <td>Alfa Romeo Spider</td>\n",
       "      <td>black</td>\n",
       "      <td>01.07.1995</td>\n",
       "      <td>1995.0</td>\n",
       "      <td>4900.0</td>\n",
       "      <td>110.0</td>\n",
       "      <td>150.0</td>\n",
       "      <td>Manual</td>\n",
       "      <td>Petrol</td>\n",
       "      <td>9.0</td>\n",
       "      <td>225.00</td>\n",
       "      <td>1895000.0</td>\n",
       "      <td>2.0 16V Twin Spark L</td>\n",
       "    </tr>\n",
       "    <tr>\n",
       "      <th>2</th>\n",
       "      <td>alfa-romeo</td>\n",
       "      <td>Alfa Romeo 164</td>\n",
       "      <td>red</td>\n",
       "      <td>01.11.1996</td>\n",
       "      <td>1996.0</td>\n",
       "      <td>17950.0</td>\n",
       "      <td>132.0</td>\n",
       "      <td>179.0</td>\n",
       "      <td>Manual</td>\n",
       "      <td>Petrol</td>\n",
       "      <td>7.0</td>\n",
       "      <td>52.15</td>\n",
       "      <td>961270.0</td>\n",
       "      <td>3.0i Super V6, absoluter Topzustand !</td>\n",
       "    </tr>\n",
       "  </tbody>\n",
       "</table>\n",
       "</div>"
      ],
      "text/plain": [
       "        brand              model  color registration_date    year  \\\n",
       "0  alfa-romeo     Alfa Romeo GTV    red        01.10.1995  1995.0   \n",
       "1  alfa-romeo  Alfa Romeo Spider  black        01.07.1995  1995.0   \n",
       "2  alfa-romeo     Alfa Romeo 164    red        01.11.1996  1996.0   \n",
       "\n",
       "   price_in_euro  power_kw  power_ps transmission_type fuel_type  \\\n",
       "0         1300.0     148.0     201.0            Manual    Petrol   \n",
       "1         4900.0     110.0     150.0            Manual    Petrol   \n",
       "2        17950.0     132.0     179.0            Manual    Petrol   \n",
       "\n",
       "   fuel_consumption_l_100km  fuel_consumption_g_km  mileage_in_km  \\\n",
       "0                      10.0                 260.00      1605000.0   \n",
       "1                       9.0                 225.00      1895000.0   \n",
       "2                       7.0                  52.15       961270.0   \n",
       "\n",
       "                       offer_description  \n",
       "0                              2.0 V6 TB  \n",
       "1                   2.0 16V Twin Spark L  \n",
       "2  3.0i Super V6, absoluter Topzustand !  "
      ]
     },
     "execution_count": 10,
     "metadata": {},
     "output_type": "execute_result"
    }
   ],
   "source": [
    "df_main=pd.read_csv(\"cars_dataset_cleaned.csv\")\n",
    "df_main.head(3)"
   ]
  },
  {
   "cell_type": "markdown",
   "id": "f0c4e703-9188-4206-9596-80d72caf158b",
   "metadata": {},
   "source": [
    "### Feature Selection and Preprocessing"
   ]
  },
  {
   "cell_type": "code",
   "execution_count": 12,
   "id": "70e38a9c-252d-4591-b269-4697dd351f39",
   "metadata": {},
   "outputs": [],
   "source": [
    "features=[\"year\", \"power_ps\", \"fuel_consumption_g_km\", \"mileage_in_km\"]\n",
    "target=[\"price_in_euro\"]"
   ]
  },
  {
   "cell_type": "code",
   "execution_count": 13,
   "id": "7ea3edf7-0727-4c90-b9d2-2fa4304a50da",
   "metadata": {},
   "outputs": [],
   "source": [
    "X=df_main[features].dropna()\n",
    "y=df_main.loc[X.index, target]"
   ]
  },
  {
   "cell_type": "code",
   "execution_count": 14,
   "id": "fe3dd149-2cd3-4de8-9f85-aaa0b3159b60",
   "metadata": {},
   "outputs": [
    {
     "name": "stdout",
     "output_type": "stream",
     "text": [
      "The number of training samples are 178536\n",
      "The number of testing samples are 44635\n"
     ]
    }
   ],
   "source": [
    "X_train, X_test, y_train, y_test=train_test_split(X,y, test_size=0.2, random_state=1)\n",
    "print(\"The number of training samples are\", X_train.shape[0])\n",
    "print(\"The number of testing samples are\", X_test.shape[0])"
   ]
  },
  {
   "cell_type": "code",
   "execution_count": 15,
   "id": "eb7be558-7ee6-45c4-be86-9d63dd835ef0",
   "metadata": {},
   "outputs": [],
   "source": [
    "scaler=StandardScaler()\n",
    "X_train_scaled=scaler.fit_transform(X_train)\n",
    "X_test_scaled=scaler.fit_transform(X_test)"
   ]
  },
  {
   "cell_type": "markdown",
   "id": "65954fd1-3cdd-4453-8009-cd873641e981",
   "metadata": {},
   "source": [
    "### Linear Regression\n",
    "\n",
    "Linear Regression is a simple and interpretable model which assumes a straight line relationship between the independent and target variables. \\\n",
    "**When to use?**\n",
    "- Data has a linear trend (straight-line-pattern)\n",
    "- Relationships are not too complex\n"
   ]
  },
  {
   "cell_type": "code",
   "execution_count": 17,
   "id": "96257d69-2583-4d60-b06c-7e5cdb3a8742",
   "metadata": {},
   "outputs": [],
   "source": [
    "lr=LinearRegression()\n",
    "lr.fit(X_train_scaled, y_train)\n",
    "y_hat=lr.predict(X_test_scaled)"
   ]
  },
  {
   "cell_type": "code",
   "execution_count": 18,
   "id": "b30e1c60-47d1-4703-ae24-edb35ca269d5",
   "metadata": {},
   "outputs": [
    {
     "name": "stdout",
     "output_type": "stream",
     "text": [
      "\n",
      "🔹 Linear Regression\n",
      "MAE: 8948.275075810592\n",
      "RMSE: 21069.910508093028\n",
      "R²: 0.5453687669590156\n"
     ]
    }
   ],
   "source": [
    "print(\"\\n🔹 Linear Regression\")\n",
    "print(\"MAE:\", mean_absolute_error(y_test, y_hat))\n",
    "print(\"RMSE:\", np.sqrt(mean_squared_error(y_test, y_hat)))\n",
    "print(\"R²:\", r2_score(y_test, y_hat))"
   ]
  },
  {
   "cell_type": "markdown",
   "id": "5b8c9a0d-d3cb-4f80-a34c-51d4b3f4538e",
   "metadata": {},
   "source": [
    "### Ridge Regresssion (L2 Regularization)\n",
    "- A way to improve linear regression models when dealing with multicollinearity, which is when independent variables are highly correlated.\n",
    "- Minimize error and shrink large weights\n",
    "- We add penalty to prevent overfitting (model fitting noise/randomness)\\\n",
    "**When to use**\n",
    "  - When we have many features\n",
    "  - The features are corelated with each other (multicollinearity)"
   ]
  },
  {
   "cell_type": "code",
   "execution_count": 20,
   "id": "dec55953-19c1-42a1-87a3-393e93a98bf9",
   "metadata": {},
   "outputs": [
    {
     "name": "stdout",
     "output_type": "stream",
     "text": [
      "\n",
      "🔹 Ridge Regression\n",
      "MAE: 8948.241094840796\n",
      "RMSE: 21069.90859164242\n",
      "R²: 0.5453688496625717\n"
     ]
    }
   ],
   "source": [
    "ridge=Ridge(alpha=1.0)\n",
    "ridge.fit(X_train_scaled, y_train)\n",
    "ridge_pred=ridge.predict(X_test_scaled)\n",
    "\n",
    "print(\"\\n🔹 Ridge Regression\")\n",
    "print(\"MAE:\", mean_absolute_error(y_test, ridge_pred))\n",
    "print(\"RMSE:\", np.sqrt(mean_squared_error(y_test, ridge_pred)))\n",
    "print(\"R²:\", r2_score(y_test, ridge_pred))\n"
   ]
  },
  {
   "cell_type": "markdown",
   "id": "4ab011f9-7742-4272-9f8b-79c846afb1f8",
   "metadata": {},
   "source": [
    "### Lasso Regression\n",
    "\n",
    "- Type of LR that uses L1 regularization to penalize the absolute size of the regression coefficients.\n",
    "- Shrinks some coefficients exactly to zero."
   ]
  },
  {
   "cell_type": "code",
   "execution_count": 22,
   "id": "b2f14a8e-ea31-473c-9318-120eeea5cb67",
   "metadata": {},
   "outputs": [
    {
     "name": "stdout",
     "output_type": "stream",
     "text": [
      "\n",
      "🔹 Lasso Regression\n",
      "MAE: 8948.23382186841\n",
      "RMSE: 21069.90819410432\n",
      "R²: 0.5453688668181471\n"
     ]
    }
   ],
   "source": [
    "lasso=Lasso (alpha=0.1)\n",
    "lasso.fit(X_train_scaled, y_train)\n",
    "lasso_pred=lasso.predict(X_test_scaled)\n",
    "print(\"\\n🔹 Lasso Regression\")\n",
    "print(\"MAE:\", mean_absolute_error(y_test, lasso_pred))\n",
    "print(\"RMSE:\", np.sqrt(mean_squared_error(y_test, lasso_pred)))\n",
    "print(\"R²:\", r2_score(y_test, lasso_pred))"
   ]
  },
  {
   "cell_type": "markdown",
   "id": "c1f01761-3b30-4d97-951f-20cdc9223c56",
   "metadata": {},
   "source": [
    "### K-Nearest Neighbours\n",
    "\n",
    "K-Nearest Neighbors (KNN) is a simple, intuitive machine learning algorithm used for classification and regression.\n",
    "Main idea:\n",
    "\n",
    "- To predict a point, look at the K closest points in the training data.\n",
    "- For regression → take the average of their values.\n",
    "- For classification → take a majority vote (which class appears most among the neighbors)."
   ]
  },
  {
   "cell_type": "code",
   "execution_count": 24,
   "id": "dc60c85f-1b58-4851-a526-396e85e9be1b",
   "metadata": {},
   "outputs": [
    {
     "name": "stdout",
     "output_type": "stream",
     "text": [
      "\n",
      "🔹 K-Nearest Neighbors Regression\n",
      "MAE: 5010.990679959673\n",
      "RMSE: 14025.776816501475\n",
      "R²: 0.7985405081177717\n"
     ]
    }
   ],
   "source": [
    "knn = KNeighborsRegressor(n_neighbors=5) \n",
    "knn.fit(X_train_scaled, y_train)\n",
    "pred_knn = knn.predict(X_test_scaled)\n",
    "print(\"\\n🔹 K-Nearest Neighbors Regression\")\n",
    "print(\"MAE:\", mean_absolute_error(y_test, pred_knn))\n",
    "print(\"RMSE:\", np.sqrt(mean_squared_error(y_test, pred_knn)))\n",
    "print(\"R²:\", r2_score(y_test, pred_knn))"
   ]
  },
  {
   "cell_type": "markdown",
   "id": "0ec9e975-7b82-4449-a9d0-c364ef40ebaf",
   "metadata": {},
   "source": [
    "### XGBoost Regressor\n",
    "-"
   ]
  },
  {
   "cell_type": "code",
   "execution_count": 26,
   "id": "cb2ad2f8-2e8b-48e7-ade8-a28ac626523e",
   "metadata": {},
   "outputs": [
    {
     "name": "stdout",
     "output_type": "stream",
     "text": [
      "\n",
      "🔹 XGBoost Regression\n",
      "MAE: 5506.585593214406\n",
      "RMSE: 15902.600390960111\n",
      "R²: 0.7410176396369934\n"
     ]
    }
   ],
   "source": [
    "xgboost_model = xgb.XGBRegressor(n_estimators=100, max_depth=5, learning_rate=0.1, random_state=42,verbosity=0)\n",
    "xgboost_model.fit(X_train_scaled, y_train)\n",
    "pred_xgb = xgboost_model.predict(X_test_scaled)\n",
    "print(\"\\n🔹 XGBoost Regression\")\n",
    "print(\"MAE:\", mean_absolute_error(y_test, pred_xgb))\n",
    "print(\"RMSE:\", np.sqrt(mean_squared_error(y_test, pred_xgb)))\n",
    "print(\"R²:\", r2_score(y_test, pred_xgb))"
   ]
  },
  {
   "cell_type": "markdown",
   "id": "c35746ab-281c-433c-b8ba-eacfbf298062",
   "metadata": {
    "jp-MarkdownHeadingCollapsed": true
   },
   "source": [
    "### Cross Validation (5-Fold)"
   ]
  },
  {
   "cell_type": "code",
   "execution_count": 28,
   "id": "fb90a4c7-5297-401f-86e8-cc7efa133c77",
   "metadata": {},
   "outputs": [
    {
     "name": "stdout",
     "output_type": "stream",
     "text": [
      "\n",
      "🔹 Linear Regression\n",
      "Mean R²: 0.46117617976039904\n",
      "All R² Scores: [0.27076807 0.52230469 0.52132002 0.44011126 0.55137686]\n",
      "\n",
      "🔹 Ridge Regression\n",
      "Mean R²: 0.4611762220920518\n",
      "All R² Scores: [0.27076792 0.52230488 0.52132023 0.44011119 0.55137689]\n",
      "\n",
      "🔹 Lasso Regression\n",
      "Mean R²: 0.4611762167063901\n",
      "All R² Scores: [0.27076792 0.52230481 0.52132024 0.44011118 0.55137693]\n",
      "\n",
      "🔹 K-Nearest Neighbours\n",
      "Mean R²: 0.6816674164053006\n",
      "All R² Scores: [0.44097679 0.74557771 0.76919439 0.66970199 0.7828862 ]\n",
      "\n",
      "🔹 XGBoost Regressor\n",
      "Mean R²: 0.5361129403114319\n",
      "All R² Scores: [0.45499802 0.16032445 0.72459066 0.62141919 0.71923238]\n"
     ]
    }
   ],
   "source": [
    "models = {\n",
    "    \"Linear Regression\": LinearRegression(),\n",
    "    \"Ridge Regression\": Ridge(alpha=1.0),\n",
    "    \"Lasso Regression\": Lasso(alpha=0.1),\n",
    "    \"K-Nearest Neighbours\":KNeighborsRegressor(n_neighbors=5), \n",
    "    \"XGBoost Regressor\": xgb.XGBRegressor(n_estimators=100, max_depth=5, learning_rate=0.1, random_state=42)\n",
    "}\n",
    "\n",
    "for name, model in models.items():\n",
    "    scores = cross_val_score(model, X_train_scaled, y_train, cv=5, scoring='r2')\n",
    "    print(f\"\\n🔹 {name}\")\n",
    "    print(\"Mean R²:\", scores.mean())\n",
    "    print(\"All R² Scores:\", scores)"
   ]
  },
  {
   "cell_type": "markdown",
   "id": "29044a9f-76d3-45b1-b4d1-f701d1933ffd",
   "metadata": {},
   "source": [
    "### Hyperparameters Tunning"
   ]
  },
  {
   "cell_type": "markdown",
   "id": "73989682-abc8-452e-9a3a-568cd634a203",
   "metadata": {},
   "source": [
    "#### Ridge Regression"
   ]
  },
  {
   "cell_type": "code",
   "execution_count": 31,
   "id": "5be849fd-21e9-4cf5-a063-687e7d78bd91",
   "metadata": {},
   "outputs": [
    {
     "name": "stdout",
     "output_type": "stream",
     "text": [
      "\n",
      "Best Ridge alpha: {'alpha': 100}\n",
      "Best Ridge R²: 0.4611802156622288\n"
     ]
    }
   ],
   "source": [
    "ridge_params = {'alpha': [0.01, 0.1, 1, 10, 100]}\n",
    "ridge_grid = GridSearchCV(Ridge(), ridge_params, cv=5, scoring='r2')\n",
    "ridge_grid.fit(X_train_scaled, y_train)\n",
    "print(\"\\nBest Ridge alpha:\", ridge_grid.best_params_)\n",
    "print(\"Best Ridge R²:\", ridge_grid.best_score_)"
   ]
  },
  {
   "cell_type": "markdown",
   "id": "a15c66d6-e99f-42b6-b864-e4fc2f6ca338",
   "metadata": {},
   "source": [
    "#### Lasso Regression"
   ]
  },
  {
   "cell_type": "code",
   "execution_count": 33,
   "id": "aaf0b5ca-d93b-43e6-beb8-4dc5a3318872",
   "metadata": {},
   "outputs": [
    {
     "name": "stdout",
     "output_type": "stream",
     "text": [
      "\n",
      "Best Lasso alpha: {'alpha': 10}\n",
      "Best Lasso R²: 0.46117913269180033\n"
     ]
    }
   ],
   "source": [
    "lasso_params = {'alpha': [0.001, 0.01, 0.1, 1, 10]}\n",
    "\n",
    "lasso_grid = GridSearchCV(Lasso(max_iter=5000), lasso_params, cv=5, scoring='r2')\n",
    "lasso_grid.fit(X_train_scaled, y_train)\n",
    "\n",
    "print(\"\\nBest Lasso alpha:\", lasso_grid.best_params_)\n",
    "print(\"Best Lasso R²:\", lasso_grid.best_score_)"
   ]
  },
  {
   "cell_type": "markdown",
   "id": "9f884c58-90a0-4e92-83c6-847179a70f24",
   "metadata": {},
   "source": [
    "#### K-Nearest Neighbours"
   ]
  },
  {
   "cell_type": "code",
   "execution_count": 35,
   "id": "579ce6dd-7b2f-4b8a-a09d-1dfd721ecc13",
   "metadata": {},
   "outputs": [
    {
     "name": "stdout",
     "output_type": "stream",
     "text": [
      "Best KNN parameters: {'metric': 'manhattan', 'n_neighbors': 9, 'weights': 'distance'}\n",
      "Best KNN R²: 0.7202701118445332\n"
     ]
    }
   ],
   "source": [
    "knn_params = {\n",
    "    'n_neighbors': [3, 5, 7, 9],\n",
    "    'weights': ['uniform', 'distance'],\n",
    "    'metric': ['euclidean', 'manhattan']\n",
    "}\n",
    "\n",
    "knn_grid = GridSearchCV(knn, knn_params, cv=5, scoring='r2')\n",
    "knn_grid.fit(X_train_scaled, y_train)\n",
    "print(\"Best KNN parameters:\", knn_grid.best_params_)\n",
    "print(\"Best KNN R²:\", knn_grid.best_score_)"
   ]
  },
  {
   "cell_type": "markdown",
   "id": "def987e1-14fd-4ff1-89aa-db75bad8f727",
   "metadata": {},
   "source": [
    "#### XGBoost Regression"
   ]
  },
  {
   "cell_type": "code",
   "execution_count": 37,
   "id": "9021f6a4-3c23-4e03-a032-c899d7c27ad6",
   "metadata": {},
   "outputs": [
    {
     "name": "stdout",
     "output_type": "stream",
     "text": [
      "Best XGBoost Parameters: {'learning_rate': 0.2, 'max_depth': 3, 'n_estimators': 50, 'subsample': 1.0}\n",
      "Best XGBoost R² Score: 0.6558852672576905\n"
     ]
    }
   ],
   "source": [
    "xgb_params = {\n",
    "    'n_estimators': [50, 100, 150],\n",
    "    'max_depth': [3, 5, 7],\n",
    "    'learning_rate': [0.01, 0.1, 0.2],\n",
    "    'subsample': [0.7, 1.0]\n",
    "}\n",
    "xgb_model = XGBRegressor(random_state=42)\n",
    "xgb_grid = GridSearchCV(xgb_model, xgb_params, cv=5, scoring='r2')\n",
    "xgb_grid.fit(X_train_scaled, y_train)\n",
    "print(\"Best XGBoost Parameters:\", xgb_grid.best_params_)\n",
    "print(\"Best XGBoost R² Score:\", xgb_grid.best_score_)"
   ]
  },
  {
   "cell_type": "code",
   "execution_count": 38,
   "id": "fee123ec-5134-40e0-a1ec-e3e3af029a5e",
   "metadata": {},
   "outputs": [
    {
     "name": "stdout",
     "output_type": "stream",
     "text": [
      "\n",
      "📋 Model Comparison Table:\n"
     ]
    },
    {
     "data": {
      "text/html": [
       "<div>\n",
       "<style scoped>\n",
       "    .dataframe tbody tr th:only-of-type {\n",
       "        vertical-align: middle;\n",
       "    }\n",
       "\n",
       "    .dataframe tbody tr th {\n",
       "        vertical-align: top;\n",
       "    }\n",
       "\n",
       "    .dataframe thead th {\n",
       "        text-align: right;\n",
       "    }\n",
       "</style>\n",
       "<table border=\"1\" class=\"dataframe\">\n",
       "  <thead>\n",
       "    <tr style=\"text-align: right;\">\n",
       "      <th></th>\n",
       "      <th>MAE</th>\n",
       "      <th>RMSE</th>\n",
       "      <th>R²</th>\n",
       "    </tr>\n",
       "  </thead>\n",
       "  <tbody>\n",
       "    <tr>\n",
       "      <th>Linear Regression</th>\n",
       "      <td>8948.28</td>\n",
       "      <td>21069.91</td>\n",
       "      <td>0.55</td>\n",
       "    </tr>\n",
       "    <tr>\n",
       "      <th>Ridge Regression</th>\n",
       "      <td>8948.24</td>\n",
       "      <td>21069.91</td>\n",
       "      <td>0.55</td>\n",
       "    </tr>\n",
       "    <tr>\n",
       "      <th>Lasso Regression</th>\n",
       "      <td>8948.23</td>\n",
       "      <td>21069.91</td>\n",
       "      <td>0.55</td>\n",
       "    </tr>\n",
       "    <tr>\n",
       "      <th>K-Nearest Neighbors</th>\n",
       "      <td>5010.99</td>\n",
       "      <td>14025.78</td>\n",
       "      <td>0.80</td>\n",
       "    </tr>\n",
       "    <tr>\n",
       "      <th>XGBoost</th>\n",
       "      <td>5506.59</td>\n",
       "      <td>15902.60</td>\n",
       "      <td>0.74</td>\n",
       "    </tr>\n",
       "  </tbody>\n",
       "</table>\n",
       "</div>"
      ],
      "text/plain": [
       "                         MAE      RMSE    R²\n",
       "Linear Regression    8948.28  21069.91  0.55\n",
       "Ridge Regression     8948.24  21069.91  0.55\n",
       "Lasso Regression     8948.23  21069.91  0.55\n",
       "K-Nearest Neighbors  5010.99  14025.78  0.80\n",
       "XGBoost              5506.59  15902.60  0.74"
      ]
     },
     "metadata": {},
     "output_type": "display_data"
    }
   ],
   "source": [
    "results = {\n",
    "    \"Linear Regression\": [mean_absolute_error(y_test, y_hat), np.sqrt(mean_squared_error(y_test, y_hat)), r2_score(y_test, y_hat)],\n",
    "    \"Ridge Regression\": [mean_absolute_error(y_test, ridge_pred), np.sqrt(mean_squared_error(y_test, ridge_pred)), r2_score(y_test, ridge_pred)],\n",
    "    \"Lasso Regression\": [mean_absolute_error(y_test, lasso_pred), np.sqrt(mean_squared_error(y_test, lasso_pred)), r2_score(y_test, lasso_pred)],    \n",
    "    \"K-Nearest Neighbors\": [mean_absolute_error(y_test, pred_knn), np.sqrt(mean_squared_error(y_test, pred_knn)), r2_score(y_test, pred_knn)],\n",
    "    \"XGBoost\": [mean_absolute_error(y_test, pred_xgb), np.sqrt(mean_squared_error(y_test, pred_xgb)), r2_score(y_test, pred_xgb)]\n",
    "}\n",
    "\n",
    "results_df = pd.DataFrame(results, index=['MAE', 'RMSE', 'R²']).T.round(2)\n",
    "print(\"\\n📋 Model Comparison Table:\")\n",
    "display(results_df)"
   ]
  },
  {
   "cell_type": "markdown",
   "id": "c02da49b-efd0-43a2-b835-c76fd0bcb4d3",
   "metadata": {},
   "source": [
    "The best model according to our results is **K-Nearest Neighbours (KNN Model)** because:\n",
    "- Lowest MAE (much smaller than other models)\n",
    "- Lowest RMSE (much smaller than other models)\n",
    "- Highest R-squared (closer to 1)"
   ]
  },
  {
   "cell_type": "markdown",
   "id": "c6d9baca-e206-4167-88f9-3746fbfa0e81",
   "metadata": {},
   "source": [
    "### Visualization of the Results"
   ]
  },
  {
   "cell_type": "code",
   "execution_count": 67,
   "id": "c0e19e16-b309-4cf2-92ac-5daf1ee644aa",
   "metadata": {},
   "outputs": [
    {
     "data": {
      "image/png": "[encoded data removed]",
      "text/plain": [
       "<Figure size 600x600 with 1 Axes>"
      ]
     },
     "metadata": {},
     "output_type": "display_data"
    }
   ],
   "source": [
    "plt.figure(figsize=(6,6))\n",
    "results_df['R²'].plot(kind='bar', color='brown')\n",
    "plt.title(\"Model Comparison: R² Scores\")\n",
    "plt.ylabel(\"R²\")\n",
    "plt.ylim(0, 1)\n",
    "plt.grid(axis='y')\n",
    "plt.xticks(rotation=45)\n",
    "plt.tight_layout()\n",
    "plt.savefig(\"Model comparision.pdf\")\n",
    "plt.show()"
   ]
  }
 ],
 "metadata": {
  "kernelspec": {
   "display_name": "Python [conda env:base] *",
   "language": "python",
   "name": "conda-base-py"
  },
  "language_info": {
   "codemirror_mode": {
    "name": "ipython",
    "version": 3
   },
   "file_extension": ".py",
   "mimetype": "text/x-python",
   "name": "python",
   "nbconvert_exporter": "python",
   "pygments_lexer": "ipython3",
   "version": "3.12.7"
  }
 },
 "nbformat": 4,
 "nbformat_minor": 5
}
